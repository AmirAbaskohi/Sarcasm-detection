{
  "cells": [
    {
      "cell_type": "markdown",
      "metadata": {
        "id": "sFQsVXwNd0GM"
      },
      "source": [
        "# part1"
      ]
    },
    {
      "cell_type": "code",
      "execution_count": null,
      "metadata": {
        "id": "20nGw54WA5IO"
      },
      "outputs": [],
      "source": [
        "!pip install numpy --upgrade\n",
        "!pip install bert-embedding\n",
        "!pip install mxnet-cu100\n",
        "!pip install sentence-transformers"
      ]
    },
    {
      "cell_type": "code",
      "execution_count": null,
      "metadata": {
        "id": "4c4YZ9DN6s0H"
      },
      "outputs": [],
      "source": [
        "import re\n",
        "import itertools\n",
        "import mxnet as mx\n",
        "import pandas as pd\n",
        "import numpy as np\n",
        "from bert_embedding import BertEmbedding\n",
        "from sentence_transformers import SentenceTransformer\n",
        "import tensorflow as tf\n",
        "from keras import backend as K\n",
        "import pickle\n",
        "from tensorflow.keras.preprocessing.text import Tokenizer\n",
        "from tensorflow.keras.preprocessing.sequence import pad_sequences"
      ]
    },
    {
      "cell_type": "code",
      "execution_count": null,
      "metadata": {
        "id": "x3bf7xHMAjoA"
      },
      "outputs": [],
      "source": [
        "def mean(z):\n",
        "    return sum(itertools.chain(z))/len(z)\n",
        "  \n",
        "\n",
        "def embeddToBERT(text):\n",
        "    sentences = re.split('!|\\?|\\.',text)\n",
        "    sentences = list(filter(None, sentences)) \n",
        "\n",
        "    bert = BertEmbedding()\n",
        "\n",
        "    result = bert(sentences, 'avg') # avg is refer to handle OOV\n",
        "\n",
        "    bert_vocabs_of_sentence = []\n",
        "    for sentence in range(len(result)):\n",
        "        for word in range(len(result[sentence][1])):\n",
        "            bert_vocabs_of_sentence.append(result[sentence][1][word])\n",
        "    feature = [mean(x) for x in zip(*bert_vocabs_of_sentence)]\n",
        "\n",
        "    return feature\n",
        "\n",
        "def recall_m(y_true, y_pred):\n",
        "    true_positives = K.sum(K.round(K.clip(y_true * y_pred, 0, 1)))\n",
        "    possible_positives = K.sum(K.round(K.clip(y_true, 0, 1)))\n",
        "    recall = true_positives / (possible_positives + K.epsilon())\n",
        "    return recall\n",
        "\n",
        "def precision_m(y_true, y_pred):\n",
        "    true_positives = K.sum(K.round(K.clip(y_true * y_pred, 0, 1)))\n",
        "    predicted_positives = K.sum(K.round(K.clip(y_pred, 0, 1)))\n",
        "    precision = true_positives / (predicted_positives + K.epsilon())\n",
        "    return precision\n",
        "\n",
        "def f1_m(y_true, y_pred):\n",
        "    precision = precision_m(y_true, y_pred)\n",
        "    recall = recall_m(y_true, y_pred)\n",
        "    return 2*((precision*recall)/(precision+recall+K.epsilon()))"
      ]
    },
    {
      "cell_type": "code",
      "execution_count": null,
      "metadata": {
        "id": "LBJ-MrZuHiOT"
      },
      "outputs": [],
      "source": [
        "dataset_path = '/content/drive/MyDrive/isarcasm/isarcasm_datasets/train.En.csv'\n",
        "dataset = pd.read_csv(dataset_path)[[\"tweet\", \"sarcastic\"]]\n",
        "dataset = dataset[dataset['tweet'].notna()]"
      ]
    },
    {
      "cell_type": "code",
      "execution_count": null,
      "metadata": {
        "id": "SUAUIG05PVEG"
      },
      "outputs": [],
      "source": [
        "bert_word_training_features = []\n",
        "for i in range(len(dataset)):\n",
        "    print(i, \"/\", len(dataset), end='')\n",
        "    bert_word_training_features.append(embeddToBERT(dataset['tweet'].iloc[i]))\n",
        "    print('',end='\\r')"
      ]
    },
    {
      "cell_type": "code",
      "execution_count": null,
      "metadata": {
        "id": "pU7jPPsE0arA"
      },
      "outputs": [],
      "source": [
        "f = open(\"/content/drive/MyDrive/isarcasm/isarcasm_datasets/test.pkl\", \"wb\")\n",
        "\n",
        "pickle.dump(bert_word_training_features, f)"
      ]
    },
    {
      "cell_type": "code",
      "execution_count": null,
      "metadata": {
        "id": "l6Qz-lGX03QE"
      },
      "outputs": [],
      "source": [
        "f = open(\"/content/drive/MyDrive/isarcasm/isarcasm_datasets/bert_word_training_features.pkl\", \"rb\")\n",
        "\n",
        "bert_word_training_features = pickle.load(f)"
      ]
    },
    {
      "cell_type": "code",
      "execution_count": null,
      "metadata": {
        "id": "9U2GWf4n1G4D"
      },
      "outputs": [],
      "source": [
        "bert_word_training_features"
      ]
    },
    {
      "cell_type": "code",
      "execution_count": null,
      "metadata": {
        "colab": {
          "base_uri": "https://localhost:8080/"
        },
        "id": "5Hjj6QTPB0dA",
        "outputId": "d3b5d4c9-813a-482a-a27a-2bf0f459e253"
      },
      "outputs": [
        {
          "data": {
            "text/plain": [
              "(3467, 768)"
            ]
          },
          "execution_count": 26,
          "metadata": {},
          "output_type": "execute_result"
        }
      ],
      "source": [
        "bert_word_training_features = np.array(bert_word_training_features)\n",
        "\n",
        "bert_word_training_features.shape"
      ]
    },
    {
      "cell_type": "code",
      "execution_count": null,
      "metadata": {
        "id": "zBsiIugSDA12"
      },
      "outputs": [],
      "source": [
        "X = np.array(bert_word_training_features)\n",
        "y = dataset['sarcastic']"
      ]
    },
    {
      "cell_type": "code",
      "execution_count": null,
      "metadata": {
        "id": "JmZXEHjkKIpH"
      },
      "outputs": [],
      "source": [
        "X_data = dataset.tweet\n",
        "Y_data = dataset.sarcastic\n",
        "vocab_size = 10000\n",
        "embedding_dim = 16\n",
        "max_length = 150\n",
        "trunc_type = 'post'\n",
        "\n",
        "\n",
        "tokenizer = Tokenizer(num_words = vocab_size)\n",
        "tokenizer.fit_on_texts(X_data)\n",
        "sequences = tokenizer.texts_to_sequences(X_data)\n",
        "padded = pad_sequences(sequences,maxlen=max_length, truncating=trunc_type)\n",
        "\n",
        "X = padded\n",
        "Y = Y_data"
      ]
    },
    {
      "cell_type": "code",
      "execution_count": null,
      "metadata": {
        "colab": {
          "base_uri": "https://localhost:8080/"
        },
        "id": "SQXEXrvJBID_",
        "outputId": "fe83cbc3-bf0c-43f2-b8e8-8581e6cbae6a"
      },
      "outputs": [
        {
          "name": "stdout",
          "output_type": "stream",
          "text": [
            "Model: \"sequential_2\"\n",
            "_________________________________________________________________\n",
            " Layer (type)                Output Shape              Param #   \n",
            "=================================================================\n",
            " embedding_2 (Embedding)     (None, None, 64)          64000     \n",
            "                                                                 \n",
            " bidirectional_2 (Bidirectio  (None, 64)               24832     \n",
            " nal)                                                            \n",
            "                                                                 \n",
            " dense_4 (Dense)             (None, 6)                 390       \n",
            "                                                                 \n",
            " dense_5 (Dense)             (None, 1)                 7         \n",
            "                                                                 \n",
            "=================================================================\n",
            "Total params: 89,229\n",
            "Trainable params: 89,229\n",
            "Non-trainable params: 0\n",
            "_________________________________________________________________\n"
          ]
        }
      ],
      "source": [
        "vocab_size = 30000\n",
        "embedding_dim = 64\n",
        "input_length = 768\n",
        "\n",
        "model_lstm = tf.keras.Sequential([\n",
        "    tf.keras.layers.Embedding(1000, 64),\n",
        "    tf.keras.layers.Bidirectional(tf.keras.layers.LSTM(32)),\n",
        "    tf.keras.layers.Dense(6, activation='relu'),\n",
        "    tf.keras.layers.Dense(1, activation='sigmoid')\n",
        "])\n",
        "\n",
        "model_lstm.compile(loss='binary_crossentropy',optimizer='adam',metrics=['accuracy', f1_m])\n",
        "\n",
        "model_lstm.summary()"
      ]
    },
    {
      "cell_type": "code",
      "execution_count": null,
      "metadata": {
        "colab": {
          "base_uri": "https://localhost:8080/",
          "height": 1000
        },
        "id": "AqTlwI-WC-Pj",
        "outputId": "ec0f2ca0-867e-43db-c885-e2253d8a9cc8"
      },
      "outputs": [
        {
          "ename": "InvalidArgumentError",
          "evalue": "ignored",
          "output_type": "error",
          "traceback": [
            "\u001b[0;31m---------------------------------------------------------------------------\u001b[0m",
            "\u001b[0;31mInvalidArgumentError\u001b[0m                      Traceback (most recent call last)",
            "\u001b[0;32m<ipython-input-32-bca70d6335dd>\u001b[0m in \u001b[0;36m<module>\u001b[0;34m()\u001b[0m\n\u001b[0;32m----> 1\u001b[0;31m \u001b[0mmodel_lstm\u001b[0m\u001b[0;34m.\u001b[0m\u001b[0mfit\u001b[0m\u001b[0;34m(\u001b[0m\u001b[0mX\u001b[0m\u001b[0;34m,\u001b[0m\u001b[0my\u001b[0m\u001b[0;34m)\u001b[0m\u001b[0;34m\u001b[0m\u001b[0;34m\u001b[0m\u001b[0m\n\u001b[0m",
            "\u001b[0;32m/usr/local/lib/python3.7/dist-packages/keras/utils/traceback_utils.py\u001b[0m in \u001b[0;36merror_handler\u001b[0;34m(*args, **kwargs)\u001b[0m\n\u001b[1;32m     65\u001b[0m     \u001b[0;32mexcept\u001b[0m \u001b[0mException\u001b[0m \u001b[0;32mas\u001b[0m \u001b[0me\u001b[0m\u001b[0;34m:\u001b[0m  \u001b[0;31m# pylint: disable=broad-except\u001b[0m\u001b[0;34m\u001b[0m\u001b[0;34m\u001b[0m\u001b[0m\n\u001b[1;32m     66\u001b[0m       \u001b[0mfiltered_tb\u001b[0m \u001b[0;34m=\u001b[0m \u001b[0m_process_traceback_frames\u001b[0m\u001b[0;34m(\u001b[0m\u001b[0me\u001b[0m\u001b[0;34m.\u001b[0m\u001b[0m__traceback__\u001b[0m\u001b[0;34m)\u001b[0m\u001b[0;34m\u001b[0m\u001b[0;34m\u001b[0m\u001b[0m\n\u001b[0;32m---> 67\u001b[0;31m       \u001b[0;32mraise\u001b[0m \u001b[0me\u001b[0m\u001b[0;34m.\u001b[0m\u001b[0mwith_traceback\u001b[0m\u001b[0;34m(\u001b[0m\u001b[0mfiltered_tb\u001b[0m\u001b[0;34m)\u001b[0m \u001b[0;32mfrom\u001b[0m \u001b[0;32mNone\u001b[0m\u001b[0;34m\u001b[0m\u001b[0;34m\u001b[0m\u001b[0m\n\u001b[0m\u001b[1;32m     68\u001b[0m     \u001b[0;32mfinally\u001b[0m\u001b[0;34m:\u001b[0m\u001b[0;34m\u001b[0m\u001b[0;34m\u001b[0m\u001b[0m\n\u001b[1;32m     69\u001b[0m       \u001b[0;32mdel\u001b[0m \u001b[0mfiltered_tb\u001b[0m\u001b[0;34m\u001b[0m\u001b[0;34m\u001b[0m\u001b[0m\n",
            "\u001b[0;32m/usr/local/lib/python3.7/dist-packages/tensorflow/python/eager/execute.py\u001b[0m in \u001b[0;36mquick_execute\u001b[0;34m(op_name, num_outputs, inputs, attrs, ctx, name)\u001b[0m\n\u001b[1;32m     53\u001b[0m     \u001b[0mctx\u001b[0m\u001b[0;34m.\u001b[0m\u001b[0mensure_initialized\u001b[0m\u001b[0;34m(\u001b[0m\u001b[0;34m)\u001b[0m\u001b[0;34m\u001b[0m\u001b[0;34m\u001b[0m\u001b[0m\n\u001b[1;32m     54\u001b[0m     tensors = pywrap_tfe.TFE_Py_Execute(ctx._handle, device_name, op_name,\n\u001b[0;32m---> 55\u001b[0;31m                                         inputs, attrs, num_outputs)\n\u001b[0m\u001b[1;32m     56\u001b[0m   \u001b[0;32mexcept\u001b[0m \u001b[0mcore\u001b[0m\u001b[0;34m.\u001b[0m\u001b[0m_NotOkStatusException\u001b[0m \u001b[0;32mas\u001b[0m \u001b[0me\u001b[0m\u001b[0;34m:\u001b[0m\u001b[0;34m\u001b[0m\u001b[0;34m\u001b[0m\u001b[0m\n\u001b[1;32m     57\u001b[0m     \u001b[0;32mif\u001b[0m \u001b[0mname\u001b[0m \u001b[0;32mis\u001b[0m \u001b[0;32mnot\u001b[0m \u001b[0;32mNone\u001b[0m\u001b[0;34m:\u001b[0m\u001b[0;34m\u001b[0m\u001b[0;34m\u001b[0m\u001b[0m\n",
            "\u001b[0;31mInvalidArgumentError\u001b[0m: Graph execution error:\n\nDetected at node 'sequential_2/embedding_2/embedding_lookup' defined at (most recent call last):\n    File \"/usr/lib/python3.7/runpy.py\", line 193, in _run_module_as_main\n      \"__main__\", mod_spec)\n    File \"/usr/lib/python3.7/runpy.py\", line 85, in _run_code\n      exec(code, run_globals)\n    File \"/usr/local/lib/python3.7/dist-packages/ipykernel_launcher.py\", line 16, in <module>\n      app.launch_new_instance()\n    File \"/usr/local/lib/python3.7/dist-packages/traitlets/config/application.py\", line 846, in launch_instance\n      app.start()\n    File \"/usr/local/lib/python3.7/dist-packages/ipykernel/kernelapp.py\", line 499, in start\n      self.io_loop.start()\n    File \"/usr/local/lib/python3.7/dist-packages/tornado/platform/asyncio.py\", line 132, in start\n      self.asyncio_loop.run_forever()\n    File \"/usr/lib/python3.7/asyncio/base_events.py\", line 541, in run_forever\n      self._run_once()\n    File \"/usr/lib/python3.7/asyncio/base_events.py\", line 1786, in _run_once\n      handle._run()\n    File \"/usr/lib/python3.7/asyncio/events.py\", line 88, in _run\n      self._context.run(self._callback, *self._args)\n    File \"/usr/local/lib/python3.7/dist-packages/tornado/platform/asyncio.py\", line 122, in _handle_events\n      handler_func(fileobj, events)\n    File \"/usr/local/lib/python3.7/dist-packages/tornado/stack_context.py\", line 300, in null_wrapper\n      return fn(*args, **kwargs)\n    File \"/usr/local/lib/python3.7/dist-packages/zmq/eventloop/zmqstream.py\", line 452, in _handle_events\n      self._handle_recv()\n    File \"/usr/local/lib/python3.7/dist-packages/zmq/eventloop/zmqstream.py\", line 481, in _handle_recv\n      self._run_callback(callback, msg)\n    File \"/usr/local/lib/python3.7/dist-packages/zmq/eventloop/zmqstream.py\", line 431, in _run_callback\n      callback(*args, **kwargs)\n    File \"/usr/local/lib/python3.7/dist-packages/tornado/stack_context.py\", line 300, in null_wrapper\n      return fn(*args, **kwargs)\n    File \"/usr/local/lib/python3.7/dist-packages/ipykernel/kernelbase.py\", line 283, in dispatcher\n      return self.dispatch_shell(stream, msg)\n    File \"/usr/local/lib/python3.7/dist-packages/ipykernel/kernelbase.py\", line 233, in dispatch_shell\n      handler(stream, idents, msg)\n    File \"/usr/local/lib/python3.7/dist-packages/ipykernel/kernelbase.py\", line 399, in execute_request\n      user_expressions, allow_stdin)\n    File \"/usr/local/lib/python3.7/dist-packages/ipykernel/ipkernel.py\", line 208, in do_execute\n      res = shell.run_cell(code, store_history=store_history, silent=silent)\n    File \"/usr/local/lib/python3.7/dist-packages/ipykernel/zmqshell.py\", line 537, in run_cell\n      return super(ZMQInteractiveShell, self).run_cell(*args, **kwargs)\n    File \"/usr/local/lib/python3.7/dist-packages/IPython/core/interactiveshell.py\", line 2718, in run_cell\n      interactivity=interactivity, compiler=compiler, result=result)\n    File \"/usr/local/lib/python3.7/dist-packages/IPython/core/interactiveshell.py\", line 2828, in run_ast_nodes\n      if self.run_code(code, result):\n    File \"/usr/local/lib/python3.7/dist-packages/IPython/core/interactiveshell.py\", line 2882, in run_code\n      exec(code_obj, self.user_global_ns, self.user_ns)\n    File \"<ipython-input-32-bca70d6335dd>\", line 1, in <module>\n      model_lstm.fit(X,y)\n    File \"/usr/local/lib/python3.7/dist-packages/keras/utils/traceback_utils.py\", line 64, in error_handler\n      return fn(*args, **kwargs)\n    File \"/usr/local/lib/python3.7/dist-packages/keras/engine/training.py\", line 1384, in fit\n      tmp_logs = self.train_function(iterator)\n    File \"/usr/local/lib/python3.7/dist-packages/keras/engine/training.py\", line 1021, in train_function\n      return step_function(self, iterator)\n    File \"/usr/local/lib/python3.7/dist-packages/keras/engine/training.py\", line 1010, in step_function\n      outputs = model.distribute_strategy.run(run_step, args=(data,))\n    File \"/usr/local/lib/python3.7/dist-packages/keras/engine/training.py\", line 1000, in run_step\n      outputs = model.train_step(data)\n    File \"/usr/local/lib/python3.7/dist-packages/keras/engine/training.py\", line 859, in train_step\n      y_pred = self(x, training=True)\n    File \"/usr/local/lib/python3.7/dist-packages/keras/utils/traceback_utils.py\", line 64, in error_handler\n      return fn(*args, **kwargs)\n    File \"/usr/local/lib/python3.7/dist-packages/keras/engine/base_layer.py\", line 1096, in __call__\n      outputs = call_fn(inputs, *args, **kwargs)\n    File \"/usr/local/lib/python3.7/dist-packages/keras/utils/traceback_utils.py\", line 92, in error_handler\n      return fn(*args, **kwargs)\n    File \"/usr/local/lib/python3.7/dist-packages/keras/engine/sequential.py\", line 374, in call\n      return super(Sequential, self).call(inputs, training=training, mask=mask)\n    File \"/usr/local/lib/python3.7/dist-packages/keras/engine/functional.py\", line 452, in call\n      inputs, training=training, mask=mask)\n    File \"/usr/local/lib/python3.7/dist-packages/keras/engine/functional.py\", line 589, in _run_internal_graph\n      outputs = node.layer(*args, **kwargs)\n    File \"/usr/local/lib/python3.7/dist-packages/keras/utils/traceback_utils.py\", line 64, in error_handler\n      return fn(*args, **kwargs)\n    File \"/usr/local/lib/python3.7/dist-packages/keras/engine/base_layer.py\", line 1096, in __call__\n      outputs = call_fn(inputs, *args, **kwargs)\n    File \"/usr/local/lib/python3.7/dist-packages/keras/utils/traceback_utils.py\", line 92, in error_handler\n      return fn(*args, **kwargs)\n    File \"/usr/local/lib/python3.7/dist-packages/keras/layers/embeddings.py\", line 197, in call\n      out = tf.nn.embedding_lookup(self.embeddings, inputs)\nNode: 'sequential_2/embedding_2/embedding_lookup'\nindices[28,251] = -1 is not in [0, 1000)\n\t [[{{node sequential_2/embedding_2/embedding_lookup}}]] [Op:__inference_train_function_42952]"
          ]
        }
      ],
      "source": [
        "model_lstm.fit(X,y)"
      ]
    },
    {
      "cell_type": "markdown",
      "metadata": {
        "id": "YgVlwHf1d4He"
      },
      "source": [
        "#part2"
      ]
    },
    {
      "cell_type": "code",
      "execution_count": null,
      "metadata": {
        "id": "Ip3MbNXzd74A"
      },
      "outputs": [],
      "source": [
        "!pip install bert-for-tf2\n",
        "!pip install sentencepiece"
      ]
    },
    {
      "cell_type": "code",
      "execution_count": null,
      "metadata": {
        "id": "MTy3BBB2eEiQ"
      },
      "outputs": [],
      "source": [
        "try:\n",
        "    %tensorflow_version 2.x\n",
        "except Exception:\n",
        "    pass\n",
        "import tensorflow as tf\n",
        "import tensorflow_hub as hub\n",
        "from tensorflow.keras import layers\n",
        "import bert\n",
        "import random\n",
        "import math\n",
        "import pandas as pd\n",
        "import numpy as np\n",
        "from keras import backend as K"
      ]
    },
    {
      "cell_type": "code",
      "execution_count": null,
      "metadata": {
        "id": "WD48ZHGR5N4T"
      },
      "outputs": [],
      "source": [
        "def recall_m(y_true, y_pred):\n",
        "    true_positives = K.sum(K.round(K.clip(y_true * y_pred, 0, 1)))\n",
        "    possible_positives = K.sum(K.round(K.clip(y_true, 0, 1)))\n",
        "    recall = true_positives / (possible_positives + K.epsilon())\n",
        "    return recall\n",
        "\n",
        "def precision_m(y_true, y_pred):\n",
        "    true_positives = K.sum(K.round(K.clip(y_true * y_pred, 0, 1)))\n",
        "    predicted_positives = K.sum(K.round(K.clip(y_pred, 0, 1)))\n",
        "    precision = true_positives / (predicted_positives + K.epsilon())\n",
        "    return precision\n",
        "\n",
        "def f1_m(y_true, y_pred):\n",
        "    precision = precision_m(y_true, y_pred)\n",
        "    recall = recall_m(y_true, y_pred)\n",
        "    return 2*((precision*recall)/(precision+recall+K.epsilon()))"
      ]
    },
    {
      "cell_type": "code",
      "execution_count": null,
      "metadata": {
        "id": "duKdRuPPyeTG"
      },
      "outputs": [],
      "source": [
        "dataset_train_path = '/content/drive/MyDrive/isarcasm/isarcasm_datasets/train.En.csv'\n",
        "dataset_train = pd.read_csv(dataset_train_path)[[\"tweet\", \"sarcastic\"]]\n",
        "dataset_train = dataset_train[dataset_train['tweet'].notna()]\n",
        "\n",
        "\n",
        "dataset_test_path = '/content/drive/MyDrive/isarcasm/isarcasm_datasets/Test_Dataset.csv'\n",
        "dataset_test = pd.read_csv(dataset_test_path)[[\"text\", \"sarcastic\"]]\n",
        "dataset_test = dataset_test[dataset_test['text'].notna()]"
      ]
    },
    {
      "cell_type": "code",
      "source": [
        "class_weights = {1:4, 0:1}"
      ],
      "metadata": {
        "id": "Q2w0WbvGg1bS"
      },
      "execution_count": null,
      "outputs": []
    },
    {
      "cell_type": "code",
      "execution_count": null,
      "metadata": {
        "id": "x8FUCyBUeiQZ"
      },
      "outputs": [],
      "source": [
        "BertTokenizer = bert.bert_tokenization.FullTokenizer\n",
        "bert_layer = hub.KerasLayer(\"https://tfhub.dev/tensorflow/bert_en_uncased_L-12_H-768_A-12/1\",\n",
        "                            trainable=False)\n",
        "vocabulary_file = bert_layer.resolved_object.vocab_file.asset_path.numpy()\n",
        "to_lower_case = bert_layer.resolved_object.do_lower_case.numpy()\n",
        "tokenizer = BertTokenizer(vocabulary_file, to_lower_case)"
      ]
    },
    {
      "cell_type": "code",
      "execution_count": null,
      "metadata": {
        "id": "1-RyUF9IfRui"
      },
      "outputs": [],
      "source": [
        "def tokenize_tweet(tweet):\n",
        "    return tokenizer.convert_tokens_to_ids(tokenizer.tokenize(tweet))"
      ]
    },
    {
      "cell_type": "code",
      "execution_count": null,
      "metadata": {
        "id": "IFllZ7vme89M"
      },
      "outputs": [],
      "source": [
        "tokenized_tweets_train = [tokenize_tweet(tweet) for tweet in dataset_train['tweet']]\n",
        "\n",
        "tokenized_tweets_test = [tokenize_tweet(tweet) for tweet in dataset_test['text']]"
      ]
    },
    {
      "cell_type": "code",
      "execution_count": null,
      "metadata": {
        "id": "WpYw67rkftnl"
      },
      "outputs": [],
      "source": [
        "tweets_with_len_train = [[tweet, dataset_train['sarcastic'].iloc[i], len(tweet)] for i, tweet in enumerate(tokenized_tweets_train)]\n",
        "random.Random(42).shuffle(tweets_with_len_train)\n",
        "\n",
        "tweets_with_len_test = [[tweet, dataset_test['sarcastic'].iloc[i], len(tweet)] for i, tweet in enumerate(tokenized_tweets_test)]\n",
        "random.Random(42).shuffle(tweets_with_len_test)"
      ]
    },
    {
      "cell_type": "code",
      "execution_count": null,
      "metadata": {
        "id": "WXipi-QegplX"
      },
      "outputs": [],
      "source": [
        "tweets_with_len_train.sort(key=lambda x: x[2])\n",
        "sorted_tweets_labels_train = [(tweet_lab[0], tweet_lab[1]) for tweet_lab in tweets_with_len_train] # remove tweet len\n",
        "processed_dataset_train = tf.data.Dataset.from_generator(lambda: sorted_tweets_labels_train, output_types=(tf.int32, tf.int32))\n",
        "\n",
        "tweets_with_len_test.sort(key=lambda x: x[2])\n",
        "sorted_tweets_labels_test = [(tweet_lab[0], tweet_lab[1]) for tweet_lab in tweets_with_len_test] # remove tweet len\n",
        "processed_dataset_test = tf.data.Dataset.from_generator(lambda: sorted_tweets_labels_test, output_types=(tf.int32, tf.int32))"
      ]
    },
    {
      "cell_type": "code",
      "execution_count": null,
      "metadata": {
        "id": "3GBr_LG9iGA1"
      },
      "outputs": [],
      "source": [
        "#for train test split\n",
        "\n",
        "\n",
        "# BATCH_SIZE = 32\n",
        "# batched_dataset = processed_dataset.padded_batch(BATCH_SIZE, padded_shapes=((None, ), ()))\n",
        "\n",
        "# TOTAL_BATCHES = math.ceil(len(sorted_tweets_labels) / BATCH_SIZE)\n",
        "# TEST_BATCHES = TOTAL_BATCHES // 10\n",
        "# batched_dataset.shuffle(TOTAL_BATCHES)\n",
        "# test_data = batched_dataset.take(TEST_BATCHES)\n",
        "# train_data = batched_dataset.skip(TEST_BATCHES)"
      ]
    },
    {
      "cell_type": "code",
      "execution_count": null,
      "metadata": {
        "id": "9JSafHAJimgT"
      },
      "outputs": [],
      "source": [
        "BATCH_SIZE = 32\n",
        "\n",
        "train_data = processed_dataset_train.padded_batch(BATCH_SIZE, padded_shapes=((None, ), ()))\n",
        "\n",
        "test_data = processed_dataset_test.padded_batch(BATCH_SIZE, padded_shapes=((None, ), ()))"
      ]
    },
    {
      "cell_type": "markdown",
      "metadata": {
        "id": "X93yy-njZg8r"
      },
      "source": [
        "# Bidirectional lstm"
      ]
    },
    {
      "cell_type": "code",
      "execution_count": null,
      "metadata": {
        "colab": {
          "base_uri": "https://localhost:8080/"
        },
        "id": "Iwl_vK42x4Z9",
        "outputId": "6c8a92c1-19d5-4b57-895a-de4de53911af"
      },
      "outputs": [
        {
          "output_type": "stream",
          "name": "stdout",
          "text": [
            "Model: \"sequential_45\"\n",
            "_________________________________________________________________\n",
            " Layer (type)                Output Shape              Param #   \n",
            "=================================================================\n",
            " embedding_57 (Embedding)    (None, None, 64)          1953408   \n",
            "                                                                 \n",
            " bidirectional_35 (Bidirecti  (None, None, 64)         24832     \n",
            " onal)                                                           \n",
            "                                                                 \n",
            " time_distributed_49 (TimeDi  (None, None, 64)         4160      \n",
            " stributed)                                                      \n",
            "                                                                 \n",
            " bidirectional_36 (Bidirecti  (None, None, 64)         24832     \n",
            " onal)                                                           \n",
            "                                                                 \n",
            " time_distributed_50 (TimeDi  (None, None, 64)         4160      \n",
            " stributed)                                                      \n",
            "                                                                 \n",
            " bidirectional_37 (Bidirecti  (None, 64)               24832     \n",
            " onal)                                                           \n",
            "                                                                 \n",
            " dense_146 (Dense)           (None, 8)                 520       \n",
            "                                                                 \n",
            " dense_147 (Dense)           (None, 1)                 9         \n",
            "                                                                 \n",
            "=================================================================\n",
            "Total params: 2,036,753\n",
            "Trainable params: 2,036,753\n",
            "Non-trainable params: 0\n",
            "_________________________________________________________________\n"
          ]
        }
      ],
      "source": [
        "BDlstm = tf.keras.Sequential([\n",
        "    tf.keras.layers.Embedding(len(tokenizer.vocab), 64),\n",
        "    tf.keras.layers.Bidirectional(tf.keras.layers.LSTM(32, return_sequences=True)),\n",
        "    tf.keras.layers.TimeDistributed(tf.keras.layers.Dense(64, activation='relu')),\n",
        "    tf.keras.layers.Bidirectional(tf.keras.layers.LSTM(32, return_sequences=True)),\n",
        "    tf.keras.layers.TimeDistributed(tf.keras.layers.Dense(64, activation='relu')),\n",
        "    tf.keras.layers.Bidirectional(tf.keras.layers.LSTM(32)),\n",
        "    tf.keras.layers.Dense(8, activation='relu'),\n",
        "    tf.keras.layers.Dense(1, activation='sigmoid')\n",
        "])\n",
        "\n",
        "BDlstm.compile(loss='binary_crossentropy',optimizer='adam',metrics=['accuracy', f1_m])\n",
        "\n",
        "BDlstm.summary()"
      ]
    },
    {
      "cell_type": "code",
      "execution_count": null,
      "metadata": {
        "colab": {
          "base_uri": "https://localhost:8080/"
        },
        "id": "PkUp6BEFzQyX",
        "outputId": "c2907dca-3b8c-4ef5-913b-1e21b668a48e"
      },
      "outputs": [
        {
          "output_type": "stream",
          "name": "stdout",
          "text": [
            "Epoch 1/10\n",
            "109/109 [==============================] - 42s 218ms/step - loss: 1.1906 - accuracy: 0.3418 - f1_m: 0.3600 - val_loss: 0.6488 - val_accuracy: 0.8079 - val_f1_m: 0.0528\n",
            "Epoch 2/10\n",
            "109/109 [==============================] - 10s 96ms/step - loss: 0.9418 - accuracy: 0.7488 - f1_m: 0.5639 - val_loss: 0.8175 - val_accuracy: 0.4993 - val_f1_m: 0.1971\n",
            "Epoch 3/10\n",
            "109/109 [==============================] - 11s 97ms/step - loss: 0.4963 - accuracy: 0.8797 - f1_m: 0.7990 - val_loss: 0.9255 - val_accuracy: 0.6064 - val_f1_m: 0.2314\n",
            "Epoch 4/10\n",
            "109/109 [==============================] - 11s 105ms/step - loss: 0.2669 - accuracy: 0.9478 - f1_m: 0.8939 - val_loss: 1.5447 - val_accuracy: 0.5279 - val_f1_m: 0.2256\n",
            "Epoch 5/10\n",
            "109/109 [==============================] - 11s 99ms/step - loss: 0.1424 - accuracy: 0.9686 - f1_m: 0.9387 - val_loss: 1.0268 - val_accuracy: 0.7186 - val_f1_m: 0.1397\n",
            "Epoch 6/10\n",
            "109/109 [==============================] - 11s 101ms/step - loss: 0.1114 - accuracy: 0.9821 - f1_m: 0.9607 - val_loss: 1.1448 - val_accuracy: 0.6443 - val_f1_m: 0.1703\n",
            "Epoch 7/10\n",
            "109/109 [==============================] - 11s 100ms/step - loss: 0.0814 - accuracy: 0.9824 - f1_m: 0.9621 - val_loss: 1.9585 - val_accuracy: 0.5464 - val_f1_m: 0.2228\n",
            "Epoch 8/10\n",
            "109/109 [==============================] - 11s 101ms/step - loss: 0.0693 - accuracy: 0.9853 - f1_m: 0.9712 - val_loss: 2.3762 - val_accuracy: 0.4964 - val_f1_m: 0.2439\n",
            "Epoch 9/10\n",
            "109/109 [==============================] - 11s 104ms/step - loss: 0.0704 - accuracy: 0.9838 - f1_m: 0.9641 - val_loss: 2.5092 - val_accuracy: 0.4379 - val_f1_m: 0.2297\n",
            "Epoch 10/10\n",
            "109/109 [==============================] - 12s 114ms/step - loss: 0.0779 - accuracy: 0.9804 - f1_m: 0.9589 - val_loss: 1.7621 - val_accuracy: 0.6443 - val_f1_m: 0.2443\n"
          ]
        },
        {
          "output_type": "execute_result",
          "data": {
            "text/plain": [
              "<keras.callbacks.History at 0x7fb6a0226410>"
            ]
          },
          "metadata": {},
          "execution_count": 144
        }
      ],
      "source": [
        "BDlstm.fit(train_data, epochs=10, validation_data = test_data, class_weight=class_weights)"
      ]
    },
    {
      "cell_type": "code",
      "execution_count": null,
      "metadata": {
        "colab": {
          "base_uri": "https://localhost:8080/"
        },
        "id": "jIufboKQznSa",
        "outputId": "4ab4af43-aa46-4dec-cfd6-8fae9b3abfe4"
      },
      "outputs": [
        {
          "output_type": "stream",
          "name": "stdout",
          "text": [
            "44/44 [==============================] - 3s 19ms/step - loss: 0.6930 - accuracy: 0.8571 - f1_m: 0.0000e+00\n"
          ]
        },
        {
          "output_type": "execute_result",
          "data": {
            "text/plain": [
              "[0.6929839849472046, 0.8571428656578064, 0.0]"
            ]
          },
          "metadata": {},
          "execution_count": 124
        }
      ],
      "source": [
        "result = BDlstm.evaluate(test_data)\n",
        "result"
      ]
    },
    {
      "cell_type": "markdown",
      "metadata": {
        "id": "ENboYZ6aZ-YG"
      },
      "source": [
        "# Simple LSTM"
      ]
    },
    {
      "cell_type": "code",
      "execution_count": null,
      "metadata": {
        "colab": {
          "base_uri": "https://localhost:8080/"
        },
        "id": "bmPW4q4g57zg",
        "outputId": "df6432b0-e591-4679-8a22-a0fd9206e0d0"
      },
      "outputs": [
        {
          "output_type": "stream",
          "name": "stdout",
          "text": [
            "Model: \"sequential_42\"\n",
            "_________________________________________________________________\n",
            " Layer (type)                Output Shape              Param #   \n",
            "=================================================================\n",
            " embedding_54 (Embedding)    (None, None, 32)          976704    \n",
            "                                                                 \n",
            " lstm_88 (LSTM)              (None, None, 32)          8320      \n",
            "                                                                 \n",
            " time_distributed_43 (TimeDi  (None, None, 32)         1056      \n",
            " stributed)                                                      \n",
            "                                                                 \n",
            " lstm_89 (LSTM)              (None, None, 32)          8320      \n",
            "                                                                 \n",
            " time_distributed_44 (TimeDi  (None, None, 32)         1056      \n",
            " stributed)                                                      \n",
            "                                                                 \n",
            " lstm_90 (LSTM)              (None, 32)                8320      \n",
            "                                                                 \n",
            " dense_134 (Dense)           (None, 8)                 264       \n",
            "                                                                 \n",
            " dense_135 (Dense)           (None, 1)                 9         \n",
            "                                                                 \n",
            "=================================================================\n",
            "Total params: 1,004,049\n",
            "Trainable params: 1,004,049\n",
            "Non-trainable params: 0\n",
            "_________________________________________________________________\n"
          ]
        }
      ],
      "source": [
        "lstm = tf.keras.Sequential([\n",
        "    tf.keras.layers.Embedding(len(tokenizer.vocab), 32),\n",
        "    tf.keras.layers.LSTM(32, return_sequences=True),\n",
        "    tf.keras.layers.TimeDistributed(tf.keras.layers.Dense(32, activation='relu')),\n",
        "    tf.keras.layers.LSTM(32, return_sequences=True),\n",
        "    tf.keras.layers.TimeDistributed(tf.keras.layers.Dense(32, activation='relu')),\n",
        "    tf.keras.layers.LSTM(32),\n",
        "    tf.keras.layers.Dense(8, activation='relu'),\n",
        "    tf.keras.layers.Dense(1, activation='sigmoid')\n",
        "])\n",
        "\n",
        "lstm.compile(loss='binary_crossentropy',optimizer='adam',metrics=['accuracy', f1_m])\n",
        "\n",
        "lstm.summary()"
      ]
    },
    {
      "cell_type": "code",
      "execution_count": null,
      "metadata": {
        "colab": {
          "base_uri": "https://localhost:8080/"
        },
        "id": "yVKSO5TW6CDU",
        "outputId": "a89bd377-3b74-4c78-d1e5-629ff7f019a8"
      },
      "outputs": [
        {
          "output_type": "stream",
          "name": "stdout",
          "text": [
            "Epoch 1/10\n",
            "109/109 [==============================] - 14s 74ms/step - loss: 1.1965 - accuracy: 0.3729 - f1_m: 0.3299 - val_loss: 0.6872 - val_accuracy: 0.5686 - val_f1_m: 0.1345\n",
            "Epoch 2/10\n",
            "109/109 [==============================] - 6s 58ms/step - loss: 1.0010 - accuracy: 0.6671 - f1_m: 0.5377 - val_loss: 0.8307 - val_accuracy: 0.5614 - val_f1_m: 0.2136\n",
            "Epoch 3/10\n",
            "109/109 [==============================] - 6s 60ms/step - loss: 0.6052 - accuracy: 0.8491 - f1_m: 0.7476 - val_loss: 0.7905 - val_accuracy: 0.5950 - val_f1_m: 0.2251\n",
            "Epoch 4/10\n",
            "109/109 [==============================] - 7s 61ms/step - loss: 0.3789 - accuracy: 0.9115 - f1_m: 0.8367 - val_loss: 0.9918 - val_accuracy: 0.6121 - val_f1_m: 0.2208\n",
            "Epoch 5/10\n",
            "109/109 [==============================] - 7s 62ms/step - loss: 0.2749 - accuracy: 0.9458 - f1_m: 0.8904 - val_loss: 1.2199 - val_accuracy: 0.5429 - val_f1_m: 0.2176\n",
            "Epoch 6/10\n",
            "109/109 [==============================] - 7s 62ms/step - loss: 0.1874 - accuracy: 0.9530 - f1_m: 0.9088 - val_loss: 0.9614 - val_accuracy: 0.6450 - val_f1_m: 0.2229\n",
            "Epoch 7/10\n",
            "109/109 [==============================] - 9s 86ms/step - loss: 0.1078 - accuracy: 0.9801 - f1_m: 0.9596 - val_loss: 1.6660 - val_accuracy: 0.5600 - val_f1_m: 0.2182\n",
            "Epoch 8/10\n",
            "109/109 [==============================] - 7s 66ms/step - loss: 0.0968 - accuracy: 0.9755 - f1_m: 0.9463 - val_loss: 1.4895 - val_accuracy: 0.6257 - val_f1_m: 0.2262\n",
            "Epoch 9/10\n",
            "109/109 [==============================] - 7s 63ms/step - loss: 0.0758 - accuracy: 0.9864 - f1_m: 0.9727 - val_loss: 1.2925 - val_accuracy: 0.6764 - val_f1_m: 0.1944\n",
            "Epoch 10/10\n",
            "109/109 [==============================] - 7s 63ms/step - loss: 0.0400 - accuracy: 0.9937 - f1_m: 0.9863 - val_loss: 1.7166 - val_accuracy: 0.6443 - val_f1_m: 0.2150\n"
          ]
        },
        {
          "output_type": "execute_result",
          "data": {
            "text/plain": [
              "<keras.callbacks.History at 0x7fb6942a9e10>"
            ]
          },
          "metadata": {},
          "execution_count": 138
        }
      ],
      "source": [
        "lstm.fit(train_data, epochs=10, validation_data=test_data, class_weight={1:4, 0:1})"
      ]
    },
    {
      "cell_type": "markdown",
      "metadata": {
        "id": "EVPU35LlfPDT"
      },
      "source": [
        "# CNN"
      ]
    },
    {
      "cell_type": "code",
      "execution_count": null,
      "metadata": {
        "id": "MMxa0bunj7Al"
      },
      "outputs": [],
      "source": [
        "class CNN_MODEL(tf.keras.Model):\n",
        "    \n",
        "    def __init__(self,\n",
        "                 vocabulary_size,\n",
        "                 embedding_dimensions=128,\n",
        "                 cnn_filters=50,\n",
        "                 dnn_units=512,\n",
        "                 dropout_rate=0.1,\n",
        "                 training=False,\n",
        "                 name=\"cnn_model\"):\n",
        "        super(CNN_MODEL, self).__init__(name=name)\n",
        "        \n",
        "        self.embedding = layers.Embedding(vocabulary_size, embedding_dimensions)\n",
        "        \n",
        "        self.cnn_layer1 = layers.Conv1D(filters=cnn_filters,\n",
        "                                        kernel_size=2,\n",
        "                                        padding=\"valid\",\n",
        "                                        activation=\"relu\")\n",
        "        self.cnn_layer2 = layers.Conv1D(filters=cnn_filters,\n",
        "                                        kernel_size=3,\n",
        "                                        padding=\"valid\",\n",
        "                                        activation=\"relu\")\n",
        "        self.cnn_layer3 = layers.Conv1D(filters=cnn_filters,\n",
        "                                        kernel_size=4,\n",
        "                                        padding=\"valid\",\n",
        "                                        activation=\"relu\")\n",
        "        self.pool = layers.GlobalMaxPool1D()\n",
        "        \n",
        "        self.dense_1 = layers.Dense(units=dnn_units, activation=\"relu\")\n",
        "        self.dropout = layers.Dropout(rate=dropout_rate)\n",
        "        \n",
        "        self.last_dense = layers.Dense(units=1, activation=\"sigmoid\")\n",
        "    \n",
        "    def call(self, inputs, training):\n",
        "        l = self.embedding(inputs)\n",
        "        l_1 = self.cnn_layer1(l) \n",
        "        l_1 = self.pool(l_1) \n",
        "        l_2 = self.cnn_layer2(l) \n",
        "        l_2 = self.pool(l_2)\n",
        "        l_3 = self.cnn_layer3(l)\n",
        "        l_3 = self.pool(l_3) \n",
        "        \n",
        "        concatenated = tf.concat([l_1, l_2, l_3], axis=-1) # (batch_size, 3 * cnn_filters)\n",
        "        concatenated = self.dense_1(concatenated)\n",
        "        concatenated = self.dropout(concatenated, training)\n",
        "        model_output = self.last_dense(concatenated)\n",
        "        \n",
        "        return model_output"
      ]
    },
    {
      "cell_type": "code",
      "execution_count": null,
      "metadata": {
        "colab": {
          "base_uri": "https://localhost:8080/"
        },
        "id": "FOla3rG_9Hg4",
        "outputId": "c32d1bd0-2ae0-47b9-e9bd-be0128ad439d"
      },
      "outputs": [
        {
          "output_type": "stream",
          "name": "stdout",
          "text": [
            "Epoch 1/10\n",
            "109/109 [==============================] - 9s 68ms/step - loss: 1.1899 - accuracy: 0.3461 - f1_m: 0.3712 - val_loss: 0.6061 - val_accuracy: 0.8571 - val_f1_m: 0.0057\n",
            "Epoch 2/10\n",
            "109/109 [==============================] - 7s 66ms/step - loss: 0.8277 - accuracy: 0.7479 - f1_m: 0.5922 - val_loss: 0.6232 - val_accuracy: 0.6779 - val_f1_m: 0.2012\n",
            "Epoch 3/10\n",
            "109/109 [==============================] - 7s 66ms/step - loss: 0.1486 - accuracy: 0.9697 - f1_m: 0.9410 - val_loss: 0.6231 - val_accuracy: 0.8264 - val_f1_m: 0.0755\n",
            "Epoch 4/10\n",
            "109/109 [==============================] - 7s 66ms/step - loss: 0.0445 - accuracy: 0.9974 - f1_m: 0.9943 - val_loss: 0.8288 - val_accuracy: 0.6750 - val_f1_m: 0.2263\n",
            "Epoch 5/10\n",
            "109/109 [==============================] - 7s 65ms/step - loss: 0.0271 - accuracy: 0.9974 - f1_m: 0.9939 - val_loss: 0.7615 - val_accuracy: 0.8379 - val_f1_m: 0.0428\n",
            "Epoch 6/10\n",
            "109/109 [==============================] - 7s 66ms/step - loss: 0.0332 - accuracy: 0.9983 - f1_m: 0.9961 - val_loss: 0.7712 - val_accuracy: 0.7314 - val_f1_m: 0.1968\n",
            "Epoch 7/10\n",
            "109/109 [==============================] - 7s 66ms/step - loss: 0.0297 - accuracy: 0.9980 - f1_m: 0.9949 - val_loss: 0.6969 - val_accuracy: 0.7693 - val_f1_m: 0.1774\n",
            "Epoch 8/10\n",
            "109/109 [==============================] - 7s 65ms/step - loss: 0.0328 - accuracy: 0.9986 - f1_m: 0.9963 - val_loss: 1.0907 - val_accuracy: 0.5936 - val_f1_m: 0.2482\n",
            "Epoch 9/10\n",
            "109/109 [==============================] - 7s 66ms/step - loss: 0.0272 - accuracy: 0.9980 - f1_m: 0.9950 - val_loss: 0.7421 - val_accuracy: 0.8229 - val_f1_m: 0.0672\n",
            "Epoch 10/10\n",
            "109/109 [==============================] - 7s 66ms/step - loss: 0.0230 - accuracy: 0.9986 - f1_m: 0.9966 - val_loss: 0.8767 - val_accuracy: 0.6986 - val_f1_m: 0.2168\n"
          ]
        },
        {
          "output_type": "execute_result",
          "data": {
            "text/plain": [
              "<keras.callbacks.History at 0x7fb68d28a090>"
            ]
          },
          "metadata": {},
          "execution_count": 146
        }
      ],
      "source": [
        "cnn = CNN_MODEL(len(tokenizer.vocab))\n",
        "cnn.compile(loss='binary_crossentropy',optimizer='adam',metrics=['accuracy', f1_m])\n",
        "\n",
        "cnn.fit(train_data, epochs=10, validation_data = test_data, class_weight=class_weights)"
      ]
    },
    {
      "cell_type": "code",
      "execution_count": null,
      "metadata": {
        "colab": {
          "base_uri": "https://localhost:8080/"
        },
        "id": "OXOq9pKE9O1o",
        "outputId": "1d1f4c71-ab64-47db-c2c0-33c06d261954"
      },
      "outputs": [
        {
          "output_type": "stream",
          "name": "stdout",
          "text": [
            "44/44 [==============================] - 1s 10ms/step - loss: 1.3789 - accuracy: 0.5921 - f1_m: 0.1744\n"
          ]
        },
        {
          "output_type": "execute_result",
          "data": {
            "text/plain": [
              "[1.378892421722412, 0.5921428799629211, 0.17441131174564362]"
            ]
          },
          "metadata": {},
          "execution_count": 79
        }
      ],
      "source": [
        "result = cnn.evaluate(test_data)\n",
        "result"
      ]
    },
    {
      "cell_type": "markdown",
      "source": [
        "# LSTM + CNN"
      ],
      "metadata": {
        "id": "g6ad2fvxkgnr"
      }
    },
    {
      "cell_type": "code",
      "source": [
        "class LSTM_CNN_MODEL(tf.keras.Model):\n",
        "    \n",
        "    def __init__(self,\n",
        "                 vocabulary_size,\n",
        "                 embedding_dimensions=32,\n",
        "                 cnn_filters=50,\n",
        "                 dnn_units=512,\n",
        "                 dropout_rate=0.1,\n",
        "                 training=False,\n",
        "                 name=\"lstm_cnn_model\"):\n",
        "        super(LSTM_CNN_MODEL, self).__init__(name=name)\n",
        "        \n",
        "        self.embedding = layers.Embedding(vocabulary_size, embedding_dimensions)\n",
        "      \n",
        "        self.lstm1 = layers.LSTM(32, return_sequences=True)\n",
        "        self.lstm2 = layers.LSTM(32, return_sequences=True)\n",
        "        self.lstm3 = layers.LSTM(32, return_sequences=True)\n",
        "\n",
        "        self.time1 = tf.keras.layers.TimeDistributed(tf.keras.layers.Dense(32, activation='relu'))\n",
        "        self.time2 = tf.keras.layers.TimeDistributed(tf.keras.layers.Dense(32, activation='relu'))\n",
        "        \n",
        "        self.cnn_layer1 = layers.Conv1D(filters=cnn_filters,\n",
        "                                        kernel_size=2,\n",
        "                                        padding=\"valid\",\n",
        "                                        activation=\"relu\")\n",
        "        self.cnn_layer2 = layers.Conv1D(filters=cnn_filters,\n",
        "                                        kernel_size=3,\n",
        "                                        padding=\"valid\",\n",
        "                                        activation=\"relu\")\n",
        "        self.cnn_layer3 = layers.Conv1D(filters=cnn_filters,\n",
        "                                        kernel_size=4,\n",
        "                                        padding=\"valid\",\n",
        "                                        activation=\"relu\")\n",
        "        self.pool = layers.GlobalMaxPool1D()\n",
        "        \n",
        "        self.dense_1 = layers.Dense(units=dnn_units, activation=\"relu\")\n",
        "        self.dropout = layers.Dropout(rate=dropout_rate)\n",
        "        \n",
        "        self.last_dense = layers.Dense(units=1, activation=\"sigmoid\")\n",
        "    \n",
        "    def call(self, inputs, training):\n",
        "        ll = self.lstm1(self.embedding(inputs))\n",
        "        ll = self.time1(ll)\n",
        "        ll = self.lstm2(ll)\n",
        "        ll = self.time2(ll)\n",
        "        ll = self.lstm3(ll)\n",
        "\n",
        "\n",
        "        l = ll\n",
        "\n",
        "        l_1 = self.cnn_layer1(l) \n",
        "        l_1 = self.pool(l_1) \n",
        "        l_2 = self.cnn_layer2(l) \n",
        "        l_2 = self.pool(l_2)\n",
        "        l_3 = self.cnn_layer3(l)\n",
        "        l_3 = self.pool(l_3) \n",
        "        \n",
        "        concatenated = tf.concat([l_1, l_2, l_3], axis=-1) # (batch_size, 3 * cnn_filters)\n",
        "        concatenated = self.dense_1(concatenated)\n",
        "        concatenated = self.dropout(concatenated, training)\n",
        "        model_output = self.last_dense(concatenated)\n",
        "        \n",
        "        return model_output"
      ],
      "metadata": {
        "id": "Psi2Ok7IkjfX"
      },
      "execution_count": null,
      "outputs": []
    },
    {
      "cell_type": "code",
      "source": [
        "lstm_cnn = LSTM_CNN_MODEL(len(tokenizer.vocab))\n",
        "lstm_cnn.compile(loss='binary_crossentropy',optimizer='adam',metrics=['accuracy', f1_m])\n",
        "\n",
        "lstm_cnn.fit(train_data, epochs=10, validation_data = test_data, class_weight=class_weights)"
      ],
      "metadata": {
        "colab": {
          "base_uri": "https://localhost:8080/"
        },
        "id": "WghdFSdGmIwq",
        "outputId": "26082ddc-e0c9-49d6-e5e8-2c47dcec17ba"
      },
      "execution_count": null,
      "outputs": [
        {
          "output_type": "stream",
          "name": "stdout",
          "text": [
            "Epoch 1/10\n",
            "109/109 [==============================] - 16s 87ms/step - loss: 1.1976 - accuracy: 0.3230 - f1_m: 0.3520 - val_loss: 0.7399 - val_accuracy: 0.1429 - val_f1_m: 0.2390\n",
            "Epoch 2/10\n",
            "109/109 [==============================] - 8s 70ms/step - loss: 1.0739 - accuracy: 0.5062 - f1_m: 0.4645 - val_loss: 1.0546 - val_accuracy: 0.3043 - val_f1_m: 0.2419\n",
            "Epoch 3/10\n",
            "109/109 [==============================] - 8s 69ms/step - loss: 0.6610 - accuracy: 0.7525 - f1_m: 0.6806 - val_loss: 1.0335 - val_accuracy: 0.5021 - val_f1_m: 0.2453\n",
            "Epoch 4/10\n",
            "109/109 [==============================] - 8s 70ms/step - loss: 0.4904 - accuracy: 0.8757 - f1_m: 0.7890 - val_loss: 1.5809 - val_accuracy: 0.6000 - val_f1_m: 0.2274\n",
            "Epoch 5/10\n",
            "109/109 [==============================] - 8s 70ms/step - loss: 0.4369 - accuracy: 0.8973 - f1_m: 0.8116 - val_loss: 0.6744 - val_accuracy: 0.8479 - val_f1_m: 0.0602\n",
            "Epoch 6/10\n",
            "109/109 [==============================] - 8s 70ms/step - loss: 0.3547 - accuracy: 0.9302 - f1_m: 0.8143 - val_loss: 1.0729 - val_accuracy: 0.6200 - val_f1_m: 0.2070\n",
            "Epoch 7/10\n",
            "109/109 [==============================] - 8s 70ms/step - loss: 0.2095 - accuracy: 0.9389 - f1_m: 0.8943 - val_loss: 1.5306 - val_accuracy: 0.6186 - val_f1_m: 0.2076\n",
            "Epoch 8/10\n",
            "109/109 [==============================] - 8s 71ms/step - loss: 0.1408 - accuracy: 0.9596 - f1_m: 0.9299 - val_loss: 1.6769 - val_accuracy: 0.5929 - val_f1_m: 0.2190\n",
            "Epoch 9/10\n",
            "109/109 [==============================] - 8s 72ms/step - loss: 0.0842 - accuracy: 0.9804 - f1_m: 0.9595 - val_loss: 1.8275 - val_accuracy: 0.6157 - val_f1_m: 0.2234\n",
            "Epoch 10/10\n",
            "109/109 [==============================] - 8s 71ms/step - loss: 0.0517 - accuracy: 0.9899 - f1_m: 0.9781 - val_loss: 1.7829 - val_accuracy: 0.6636 - val_f1_m: 0.1986\n"
          ]
        },
        {
          "output_type": "execute_result",
          "data": {
            "text/plain": [
              "<keras.callbacks.History at 0x7fb6a74cead0>"
            ]
          },
          "metadata": {},
          "execution_count": 148
        }
      ]
    },
    {
      "cell_type": "code",
      "source": [
        "result = lstm_cnn.evaluate(test_data)"
      ],
      "metadata": {
        "colab": {
          "base_uri": "https://localhost:8080/"
        },
        "id": "OH50G0w8oWaU",
        "outputId": "080e8ba5-f12c-4502-884a-d64a5c94aafd"
      },
      "execution_count": null,
      "outputs": [
        {
          "output_type": "stream",
          "name": "stdout",
          "text": [
            "44/44 [==============================] - 3s 22ms/step - loss: 2.3589 - accuracy: 0.5736 - f1_m: 0.2189\n"
          ]
        }
      ]
    },
    {
      "cell_type": "markdown",
      "source": [
        "# LSTM + ATTENTION"
      ],
      "metadata": {
        "id": "bI-SOOt5pOxe"
      }
    },
    {
      "cell_type": "code",
      "source": [
        "import os\n",
        "\n",
        "from tensorflow.keras import backend as K\n",
        "from tensorflow.keras.layers import Dense, Lambda, Dot, Activation, Concatenate, Layer\n",
        "\n",
        "# KERAS_ATTENTION_DEBUG: If set to 1. Will switch to debug mode.\n",
        "# In debug mode, the class Attention is no longer a Keras layer.\n",
        "# What it means in practice is that we can have access to the internal values\n",
        "# of each tensor. If we don't use debug, Keras treats the object\n",
        "# as a layer and we can only get the final output.\n",
        "debug_flag = int(os.environ.get('KERAS_ATTENTION_DEBUG', 0))\n",
        "\n",
        "\n",
        "class Attention(object if debug_flag else Layer):\n",
        "\n",
        "    def __init__(self, units=128, **kwargs):\n",
        "        super(Attention, self).__init__(**kwargs)\n",
        "        self.units = units\n",
        "\n",
        "    # noinspection PyAttributeOutsideInit\n",
        "    def build(self, input_shape):\n",
        "        input_dim = int(input_shape[-1])\n",
        "        with K.name_scope(self.name if not debug_flag else 'attention'):\n",
        "            self.attention_score_vec = Dense(input_dim, use_bias=False, name='attention_score_vec')\n",
        "            self.h_t = Lambda(lambda x: x[:, -1, :], output_shape=(input_dim,), name='last_hidden_state')\n",
        "            self.attention_score = Dot(axes=[1, 2], name='attention_score')\n",
        "            self.attention_weight = Activation('softmax', name='attention_weight')\n",
        "            self.context_vector = Dot(axes=[1, 1], name='context_vector')\n",
        "            self.attention_output = Concatenate(name='attention_output')\n",
        "            self.attention_vector = Dense(self.units, use_bias=False, activation='tanh', name='attention_vector')\n",
        "        if not debug_flag:\n",
        "            # debug: the call to build() is done in call().\n",
        "            super(Attention, self).build(input_shape)\n",
        "\n",
        "    def compute_output_shape(self, input_shape):\n",
        "        return input_shape[0], self.units\n",
        "\n",
        "    def __call__(self, inputs, training=None, **kwargs):\n",
        "        if debug_flag:\n",
        "            return self.call(inputs, training, **kwargs)\n",
        "        else:\n",
        "            return super(Attention, self).__call__(inputs, training, **kwargs)\n",
        "\n",
        "    # noinspection PyUnusedLocal\n",
        "    def call(self, inputs, training=None, **kwargs):\n",
        "        \"\"\"\n",
        "        Many-to-one attention mechanism for Keras.\n",
        "        @param inputs: 3D tensor with shape (batch_size, time_steps, input_dim).\n",
        "        @param training: not used in this layer.\n",
        "        @return: 2D tensor with shape (batch_size, units)\n",
        "        @author: felixhao28, philipperemy.\n",
        "        \"\"\"\n",
        "        if debug_flag:\n",
        "            self.build(inputs.shape)\n",
        "        # Inside dense layer\n",
        "        #              hidden_states            dot               W            =>           score_first_part\n",
        "        # (batch_size, time_steps, hidden_size) dot (hidden_size, hidden_size) => (batch_size, time_steps, hidden_size)\n",
        "        # W is the trainable weight matrix of attention Luong's multiplicative style score\n",
        "        score_first_part = self.attention_score_vec(inputs)\n",
        "        #            score_first_part           dot        last_hidden_state     => attention_weights\n",
        "        # (batch_size, time_steps, hidden_size) dot   (batch_size, hidden_size)  => (batch_size, time_steps)\n",
        "        h_t = self.h_t(inputs)\n",
        "        score = self.attention_score([h_t, score_first_part])\n",
        "        attention_weights = self.attention_weight(score)\n",
        "        # (batch_size, time_steps, hidden_size) dot (batch_size, time_steps) => (batch_size, hidden_size)\n",
        "        context_vector = self.context_vector([inputs, attention_weights])\n",
        "        pre_activation = self.attention_output([context_vector, h_t])\n",
        "        attention_vector = self.attention_vector(pre_activation)\n",
        "        return attention_vector\n",
        "\n",
        "    def get_config(self):\n",
        "        \"\"\"\n",
        "        Returns the config of a the layer. This is used for saving and loading from a model\n",
        "        :return: python dictionary with specs to rebuild layer\n",
        "        \"\"\"\n",
        "        config = super(Attention, self).get_config()\n",
        "        config.update({'units': self.units})\n",
        "        return config"
      ],
      "metadata": {
        "id": "95Djb4gnojlw"
      },
      "execution_count": null,
      "outputs": []
    },
    {
      "cell_type": "code",
      "source": [
        "att_lstm = tf.keras.Sequential([\n",
        "    tf.keras.layers.Embedding(len(tokenizer.vocab), 32),\n",
        "    tf.keras.layers.LSTM(32, return_sequences=True),\n",
        "    Attention(),\n",
        "    tf.keras.layers.Dropout(0.5),\n",
        "    tf.keras.layers.Dense(1, activation='sigmoid')\n",
        "])\n",
        "att_lstm.compile(loss='binary_crossentropy',optimizer='adam',metrics=['accuracy', f1_m])\n",
        "\n",
        "att_lstm.summary()"
      ],
      "metadata": {
        "colab": {
          "base_uri": "https://localhost:8080/"
        },
        "id": "mfP0w7ypq0B3",
        "outputId": "19b73c67-e8c7-4ce1-fad0-26a3172bd015"
      },
      "execution_count": null,
      "outputs": [
        {
          "output_type": "stream",
          "name": "stdout",
          "text": [
            "Model: \"sequential_46\"\n",
            "_________________________________________________________________\n",
            " Layer (type)                Output Shape              Param #   \n",
            "=================================================================\n",
            " embedding_60 (Embedding)    (None, None, 32)          976704    \n",
            "                                                                 \n",
            " lstm_103 (LSTM)             (None, None, 32)          8320      \n",
            "                                                                 \n",
            " attention_14 (Attention)    (None, 128)               9216      \n",
            "                                                                 \n",
            " dropout_14 (Dropout)        (None, 128)               0         \n",
            "                                                                 \n",
            " dense_154 (Dense)           (None, 1)                 129       \n",
            "                                                                 \n",
            "=================================================================\n",
            "Total params: 994,369\n",
            "Trainable params: 994,369\n",
            "Non-trainable params: 0\n",
            "_________________________________________________________________\n"
          ]
        }
      ]
    },
    {
      "cell_type": "code",
      "source": [
        "att_lstm.fit(train_data, epochs=10, validation_data = test_data, class_weight=class_weights)"
      ],
      "metadata": {
        "colab": {
          "base_uri": "https://localhost:8080/"
        },
        "id": "XNYgjeUzsWFa",
        "outputId": "cbbf6ea5-58c7-41e1-cb43-e1ad4cc5213a"
      },
      "execution_count": null,
      "outputs": [
        {
          "output_type": "stream",
          "name": "stdout",
          "text": [
            "Epoch 1/10\n",
            "109/109 [==============================] - 7s 42ms/step - loss: 1.1922 - accuracy: 0.3210 - f1_m: 0.3771 - val_loss: 0.7225 - val_accuracy: 0.2857 - val_f1_m: 0.2157\n",
            "Epoch 2/10\n",
            "109/109 [==============================] - 4s 34ms/step - loss: 0.9461 - accuracy: 0.6934 - f1_m: 0.5627 - val_loss: 0.9025 - val_accuracy: 0.4971 - val_f1_m: 0.2291\n",
            "Epoch 3/10\n",
            "109/109 [==============================] - 4s 34ms/step - loss: 0.4252 - accuracy: 0.8711 - f1_m: 0.7940 - val_loss: 0.8110 - val_accuracy: 0.6550 - val_f1_m: 0.2145\n",
            "Epoch 4/10\n",
            "109/109 [==============================] - 4s 34ms/step - loss: 0.1760 - accuracy: 0.9562 - f1_m: 0.9162 - val_loss: 1.0430 - val_accuracy: 0.6636 - val_f1_m: 0.2075\n",
            "Epoch 5/10\n",
            "109/109 [==============================] - 4s 35ms/step - loss: 0.1367 - accuracy: 0.9778 - f1_m: 0.9516 - val_loss: 1.4016 - val_accuracy: 0.6593 - val_f1_m: 0.2154\n",
            "Epoch 6/10\n",
            "109/109 [==============================] - 4s 35ms/step - loss: 0.1399 - accuracy: 0.9668 - f1_m: 0.9339 - val_loss: 1.0589 - val_accuracy: 0.7036 - val_f1_m: 0.1727\n",
            "Epoch 7/10\n",
            "109/109 [==============================] - 4s 34ms/step - loss: 0.0870 - accuracy: 0.9859 - f1_m: 0.9672 - val_loss: 2.3786 - val_accuracy: 0.4264 - val_f1_m: 0.2402\n",
            "Epoch 8/10\n",
            "109/109 [==============================] - 4s 34ms/step - loss: 0.0688 - accuracy: 0.9833 - f1_m: 0.9654 - val_loss: 1.5310 - val_accuracy: 0.7164 - val_f1_m: 0.1952\n",
            "Epoch 9/10\n",
            "109/109 [==============================] - 4s 35ms/step - loss: 0.0450 - accuracy: 0.9937 - f1_m: 0.9854 - val_loss: 1.8528 - val_accuracy: 0.5936 - val_f1_m: 0.2542\n",
            "Epoch 10/10\n",
            "109/109 [==============================] - 4s 35ms/step - loss: 0.0255 - accuracy: 0.9968 - f1_m: 0.9926 - val_loss: 1.4043 - val_accuracy: 0.6693 - val_f1_m: 0.2269\n"
          ]
        },
        {
          "output_type": "execute_result",
          "data": {
            "text/plain": [
              "<keras.callbacks.History at 0x7fb68a006910>"
            ]
          },
          "metadata": {},
          "execution_count": 151
        }
      ]
    },
    {
      "cell_type": "code",
      "source": [
        "result = att_lstm.evaluate(test_data)"
      ],
      "metadata": {
        "colab": {
          "base_uri": "https://localhost:8080/"
        },
        "id": "iQ2iPIr1wdZy",
        "outputId": "6d91129d-edd6-4ba2-b80e-41b6c573853c"
      },
      "execution_count": null,
      "outputs": [
        {
          "output_type": "stream",
          "name": "stdout",
          "text": [
            "44/44 [==============================] - 1s 10ms/step - loss: 1.5525 - accuracy: 0.7000 - f1_m: 0.1915\n"
          ]
        }
      ]
    },
    {
      "cell_type": "markdown",
      "source": [
        "# Bidirectional LSTM + Attention"
      ],
      "metadata": {
        "id": "4TD3ftE6xuwH"
      }
    },
    {
      "cell_type": "code",
      "source": [
        "att_BD_lstm = tf.keras.Sequential([\n",
        "    tf.keras.layers.Embedding(len(tokenizer.vocab), 64),\n",
        "    tf.keras.layers.Bidirectional(tf.keras.layers.LSTM(32, return_sequences=True)),\n",
        "    Attention(),\n",
        "    tf.keras.layers.Dropout(0.5),\n",
        "    tf.keras.layers.Dense(1, activation='sigmoid')\n",
        "])\n",
        "att_BD_lstm.compile(loss='binary_crossentropy',optimizer='adam',metrics=['accuracy', f1_m])\n",
        "\n",
        "att_BD_lstm.summary()"
      ],
      "metadata": {
        "colab": {
          "base_uri": "https://localhost:8080/"
        },
        "id": "CSiMigV7xt-o",
        "outputId": "5637a1fe-9514-4b12-d4ea-34dd83276f2d"
      },
      "execution_count": null,
      "outputs": [
        {
          "output_type": "stream",
          "name": "stdout",
          "text": [
            "Model: \"sequential_47\"\n",
            "_________________________________________________________________\n",
            " Layer (type)                Output Shape              Param #   \n",
            "=================================================================\n",
            " embedding_61 (Embedding)    (None, None, 64)          1953408   \n",
            "                                                                 \n",
            " bidirectional_38 (Bidirecti  (None, None, 64)         24832     \n",
            " onal)                                                           \n",
            "                                                                 \n",
            " attention_15 (Attention)    (None, 128)               20480     \n",
            "                                                                 \n",
            " dropout_15 (Dropout)        (None, 128)               0         \n",
            "                                                                 \n",
            " dense_155 (Dense)           (None, 1)                 129       \n",
            "                                                                 \n",
            "=================================================================\n",
            "Total params: 1,998,849\n",
            "Trainable params: 1,998,849\n",
            "Non-trainable params: 0\n",
            "_________________________________________________________________\n"
          ]
        }
      ]
    },
    {
      "cell_type": "code",
      "source": [
        "att_BD_lstm.fit(train_data, epochs=10, validation_data = test_data, class_weight=class_weights)"
      ],
      "metadata": {
        "colab": {
          "base_uri": "https://localhost:8080/"
        },
        "id": "LLQR60NsyA6E",
        "outputId": "fe313b63-649a-4bbd-c1ec-15c12b431892"
      },
      "execution_count": null,
      "outputs": [
        {
          "output_type": "stream",
          "name": "stdout",
          "text": [
            "Epoch 1/10\n",
            "109/109 [==============================] - 11s 66ms/step - loss: 1.1917 - accuracy: 0.3542 - f1_m: 0.3787 - val_loss: 0.6915 - val_accuracy: 0.5486 - val_f1_m: 0.1724\n",
            "Epoch 2/10\n",
            "109/109 [==============================] - 6s 56ms/step - loss: 0.9015 - accuracy: 0.7289 - f1_m: 0.5760 - val_loss: 0.9231 - val_accuracy: 0.4650 - val_f1_m: 0.2418\n",
            "Epoch 3/10\n",
            "109/109 [==============================] - 6s 57ms/step - loss: 0.4081 - accuracy: 0.8719 - f1_m: 0.8060 - val_loss: 0.9799 - val_accuracy: 0.6450 - val_f1_m: 0.2115\n",
            "Epoch 4/10\n",
            "109/109 [==============================] - 6s 57ms/step - loss: 0.1893 - accuracy: 0.9556 - f1_m: 0.9130 - val_loss: 0.9934 - val_accuracy: 0.7114 - val_f1_m: 0.1900\n",
            "Epoch 5/10\n",
            "109/109 [==============================] - 6s 57ms/step - loss: 0.1037 - accuracy: 0.9784 - f1_m: 0.9523 - val_loss: 1.1866 - val_accuracy: 0.6743 - val_f1_m: 0.1909\n",
            "Epoch 6/10\n",
            "109/109 [==============================] - 6s 57ms/step - loss: 0.0788 - accuracy: 0.9818 - f1_m: 0.9578 - val_loss: 1.8590 - val_accuracy: 0.5471 - val_f1_m: 0.2180\n",
            "Epoch 7/10\n",
            "109/109 [==============================] - 6s 56ms/step - loss: 0.0975 - accuracy: 0.9781 - f1_m: 0.9534 - val_loss: 3.1329 - val_accuracy: 0.4057 - val_f1_m: 0.2336\n",
            "Epoch 8/10\n",
            "109/109 [==============================] - 6s 56ms/step - loss: 0.1227 - accuracy: 0.9683 - f1_m: 0.9358 - val_loss: 1.7235 - val_accuracy: 0.6221 - val_f1_m: 0.2201\n",
            "Epoch 9/10\n",
            "109/109 [==============================] - 6s 57ms/step - loss: 0.0836 - accuracy: 0.9775 - f1_m: 0.9573 - val_loss: 1.3062 - val_accuracy: 0.7293 - val_f1_m: 0.1504\n",
            "Epoch 10/10\n",
            "109/109 [==============================] - 6s 56ms/step - loss: 0.0393 - accuracy: 0.9934 - f1_m: 0.9842 - val_loss: 1.7463 - val_accuracy: 0.6529 - val_f1_m: 0.2083\n"
          ]
        },
        {
          "output_type": "execute_result",
          "data": {
            "text/plain": [
              "<keras.callbacks.History at 0x7fb68c167110>"
            ]
          },
          "metadata": {},
          "execution_count": 153
        }
      ]
    },
    {
      "cell_type": "code",
      "source": [
        "result = att_BD_lstm.evaluate(test_data)"
      ],
      "metadata": {
        "colab": {
          "base_uri": "https://localhost:8080/"
        },
        "id": "Rq7FzLYsyHMd",
        "outputId": "05307a88-7453-4568-e51f-351107529fc3"
      },
      "execution_count": null,
      "outputs": [
        {
          "output_type": "stream",
          "name": "stdout",
          "text": [
            "44/44 [==============================] - 2s 13ms/step - loss: 1.3883 - accuracy: 0.6600 - f1_m: 0.1990\n"
          ]
        }
      ]
    }
  ],
  "metadata": {
    "colab": {
      "collapsed_sections": [
        "sFQsVXwNd0GM",
        "X93yy-njZg8r"
      ],
      "name": "Bert+Lstm/CNN.ipynb",
      "provenance": []
    },
    "kernelspec": {
      "display_name": "Python 3",
      "name": "python3"
    },
    "language_info": {
      "name": "python"
    }
  },
  "nbformat": 4,
  "nbformat_minor": 0
}