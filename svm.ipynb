{
  "nbformat": 4,
  "nbformat_minor": 5,
  "metadata": {
    "kernelspec": {
      "display_name": "Python 3 (ipykernel)",
      "language": "python",
      "name": "python3"
    },
    "language_info": {
      "codemirror_mode": {
        "name": "ipython",
        "version": 3
      },
      "file_extension": ".py",
      "mimetype": "text/x-python",
      "name": "python",
      "nbconvert_exporter": "python",
      "pygments_lexer": "ipython3",
      "version": "3.9.6"
    },
    "colab": {
      "name": "svm.ipynb",
      "provenance": []
    },
    "accelerator": "GPU"
  },
  "cells": [
    {
      "cell_type": "code",
      "metadata": {
        "id": "48b94535"
      },
      "source": [
        "import pandas as pd\n",
        "import numpy as np\n",
        "from sklearn.model_selection import train_test_split, cross_val_score\n",
        "from sklearn.feature_extraction.text import CountVectorizer , TfidfTransformer\n",
        "from sklearn.pipeline import make_pipeline\n",
        "from sklearn.preprocessing import StandardScaler\n",
        "from sklearn.svm import SVC\n",
        "from sklearn.metrics import accuracy_score"
      ],
      "id": "48b94535",
      "execution_count": 16,
      "outputs": []
    },
    {
      "cell_type": "code",
      "metadata": {
        "id": "154e7f6f"
      },
      "source": [
        "dataset_path = \"/content/drive/MyDrive/isarcasm/train.En.csv\"\n",
        "\n",
        "dataset = pd.read_csv(dataset_path)[[\"tweet\", \"sarcastic\"]]\n",
        "\n",
        "X , Y  = dataset[[\"tweet\"]] , dataset[[\"sarcastic\"]]\n"
      ],
      "id": "154e7f6f",
      "execution_count": 38,
      "outputs": []
    },
    {
      "cell_type": "code",
      "metadata": {
        "id": "8145f818",
        "colab": {
          "base_uri": "https://localhost:8080/"
        },
        "outputId": "c42be5bf-c180-4a98-d2ed-8f0d951e9004"
      },
      "source": [
        "count_vect = CountVectorizer()\n",
        "X_train_counts = count_vect.fit_transform(X['tweet'].values.astype('U'))\n",
        "X_train_counts.toarray()"
      ],
      "id": "8145f818",
      "execution_count": 39,
      "outputs": [
        {
          "output_type": "execute_result",
          "data": {
            "text/plain": [
              "array([[0, 0, 0, ..., 0, 0, 0],\n",
              "       [0, 0, 0, ..., 0, 0, 0],\n",
              "       [0, 0, 0, ..., 0, 0, 0],\n",
              "       ...,\n",
              "       [0, 0, 0, ..., 0, 0, 0],\n",
              "       [0, 0, 0, ..., 0, 0, 0],\n",
              "       [0, 0, 0, ..., 0, 0, 0]])"
            ]
          },
          "metadata": {},
          "execution_count": 39
        }
      ]
    },
    {
      "cell_type": "code",
      "metadata": {
        "id": "b622f782"
      },
      "source": [
        "tfidf_transformer = TfidfTransformer()\n",
        "X_train_tfidf = tfidf_transformer.fit_transform(X_train_counts)\n",
        "X_train_tfidf = X_train_counts"
      ],
      "id": "b622f782",
      "execution_count": 40,
      "outputs": []
    },
    {
      "cell_type": "code",
      "metadata": {
        "id": "419f17cd"
      },
      "source": [
        "def report_acc_cv(clf, X, y, model_name, cv=10, scoring='accuracy'):\n",
        "\n",
        "  acc = cross_val_score(clf, X, y, cv=cv, scoring='accuracy')\n",
        "  accb = cross_val_score(clf, X, y, cv=cv, scoring='balanced_accuracy')\n",
        "  f1 = cross_val_score(clf, X, y, cv=cv, scoring='f1')\n",
        "  p = cross_val_score(clf, X, y, cv=cv, scoring='precision')\n",
        "  r = cross_val_score(clf, X, y, cv=cv, scoring='recall')\n",
        "\n",
        "  print(model_name,\" accuracy is: %.2f%% +- %.2f%%\" %(np.mean(acc)*100,np.std(acc)*100))\n",
        "  print(model_name,\" balanced accuracy is: %.2f%% +- %.2f%%\" %(np.mean(accb)*100,np.std(accb)*100))\n",
        "  print(model_name,\" f1-score is: %.2f%% +- %.2f%%\" %(np.mean(f1)*100,np.std(f1)*100))\n",
        "  print(model_name,\" precision is: %.2f%% +- %.2f%%\" %(np.mean(p)*100,np.std(p)*100))\n",
        "  print(model_name,\" recall is: %.2f%% +- %.2f%%\" %(np.mean(r)*100,np.std(r)*100))"
      ],
      "id": "419f17cd",
      "execution_count": 20,
      "outputs": []
    },
    {
      "cell_type": "code",
      "metadata": {
        "id": "0f056552",
        "colab": {
          "base_uri": "https://localhost:8080/"
        },
        "outputId": "d317a074-21ec-45cd-c0e5-8291e5a67d28"
      },
      "source": [
        "df = pd.DataFrame(X_train_tfidf.toarray())\n",
        "\n",
        "X_train = X_train_tfidf\n",
        "class_weight= {1: 3, 0: 1}\n",
        "\n",
        "clf = SVC(C=10, kernel='rbf', class_weight=class_weight)\n",
        "clf.fit(X_train, Y.values.ravel())\n",
        "report_acc_cv(clf, X_train, Y.values.ravel(), \"svm\")"
      ],
      "id": "0f056552",
      "execution_count": 42,
      "outputs": [
        {
          "output_type": "stream",
          "name": "stdout",
          "text": [
            "svm  accuracy is: 73.41% +- 1.70%\n",
            "svm  balanced accuracy is: 52.60% +- 2.21%\n",
            "svm  f1-score is: 17.03% +- 5.43%\n",
            "svm  precision is: 38.72% +- 11.72%\n",
            "svm  recall is: 10.96% +- 3.58%\n"
          ]
        }
      ]
    }
  ]
}