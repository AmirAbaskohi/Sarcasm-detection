{
 "cells": [
  {
   "cell_type": "code",
   "execution_count": 1,
   "id": "160a2c3e",
   "metadata": {},
   "outputs": [],
   "source": [
    "import pandas as pd\n",
    "import numpy as np\n",
    "import tweepy"
   ]
  },
  {
   "cell_type": "markdown",
   "id": "4dbc6305",
   "metadata": {},
   "source": [
    "# Data collection\n",
    "\n",
    "Here I get tweets based on their id using `tweepy` module. Then remove the tweets which were deleted. Then thos data that their tweets were removed and save new datasets as `csv` in data folder."
   ]
  },
  {
   "cell_type": "code",
   "execution_count": 2,
   "id": "7d4a9991",
   "metadata": {},
   "outputs": [],
   "source": [
    "TRAIN_DATA_DIR = \"data/isarcasm_train.csv\"\n",
    "TEST_DATA_DIR = \"data/isarcasm_test.csv\""
   ]
  },
  {
   "cell_type": "code",
   "execution_count": 3,
   "id": "c8d2df2f",
   "metadata": {},
   "outputs": [],
   "source": [
    "train_df = pd.read_csv(TRAIN_DATA_DIR)\n",
    "test_df = pd.read_csv(TEST_DATA_DIR)"
   ]
  },
  {
   "cell_type": "code",
   "execution_count": 4,
   "id": "02ac262f",
   "metadata": {},
   "outputs": [
    {
     "data": {
      "text/html": [
       "<div>\n",
       "<style scoped>\n",
       "    .dataframe tbody tr th:only-of-type {\n",
       "        vertical-align: middle;\n",
       "    }\n",
       "\n",
       "    .dataframe tbody tr th {\n",
       "        vertical-align: top;\n",
       "    }\n",
       "\n",
       "    .dataframe thead th {\n",
       "        text-align: right;\n",
       "    }\n",
       "</style>\n",
       "<table border=\"1\" class=\"dataframe\">\n",
       "  <thead>\n",
       "    <tr style=\"text-align: right;\">\n",
       "      <th></th>\n",
       "      <th>tweet_id</th>\n",
       "      <th>sarcasm_label</th>\n",
       "      <th>sarcasm_type</th>\n",
       "    </tr>\n",
       "  </thead>\n",
       "  <tbody>\n",
       "    <tr>\n",
       "      <th>0</th>\n",
       "      <td>992251158159765504</td>\n",
       "      <td>not_sarcastic</td>\n",
       "      <td>NaN</td>\n",
       "    </tr>\n",
       "    <tr>\n",
       "      <th>1</th>\n",
       "      <td>1084373658745876480</td>\n",
       "      <td>not_sarcastic</td>\n",
       "      <td>NaN</td>\n",
       "    </tr>\n",
       "    <tr>\n",
       "      <th>2</th>\n",
       "      <td>812181186</td>\n",
       "      <td>not_sarcastic</td>\n",
       "      <td>NaN</td>\n",
       "    </tr>\n",
       "    <tr>\n",
       "      <th>3</th>\n",
       "      <td>1090276741329928194</td>\n",
       "      <td>not_sarcastic</td>\n",
       "      <td>NaN</td>\n",
       "    </tr>\n",
       "    <tr>\n",
       "      <th>4</th>\n",
       "      <td>553070692682723329</td>\n",
       "      <td>sarcastic</td>\n",
       "      <td>sarcasm</td>\n",
       "    </tr>\n",
       "  </tbody>\n",
       "</table>\n",
       "</div>"
      ],
      "text/plain": [
       "              tweet_id  sarcasm_label sarcasm_type\n",
       "0   992251158159765504  not_sarcastic          NaN\n",
       "1  1084373658745876480  not_sarcastic          NaN\n",
       "2            812181186  not_sarcastic          NaN\n",
       "3  1090276741329928194  not_sarcastic          NaN\n",
       "4   553070692682723329      sarcastic      sarcasm"
      ]
     },
     "execution_count": 4,
     "metadata": {},
     "output_type": "execute_result"
    }
   ],
   "source": [
    "train_df.head()"
   ]
  },
  {
   "cell_type": "code",
   "execution_count": 5,
   "id": "4913c0e9",
   "metadata": {},
   "outputs": [
    {
     "data": {
      "text/html": [
       "<div>\n",
       "<style scoped>\n",
       "    .dataframe tbody tr th:only-of-type {\n",
       "        vertical-align: middle;\n",
       "    }\n",
       "\n",
       "    .dataframe tbody tr th {\n",
       "        vertical-align: top;\n",
       "    }\n",
       "\n",
       "    .dataframe thead th {\n",
       "        text-align: right;\n",
       "    }\n",
       "</style>\n",
       "<table border=\"1\" class=\"dataframe\">\n",
       "  <thead>\n",
       "    <tr style=\"text-align: right;\">\n",
       "      <th></th>\n",
       "      <th>tweet_id</th>\n",
       "      <th>sarcasm_label</th>\n",
       "      <th>sarcasm_type</th>\n",
       "    </tr>\n",
       "  </thead>\n",
       "  <tbody>\n",
       "    <tr>\n",
       "      <th>0</th>\n",
       "      <td>933721764970057729</td>\n",
       "      <td>sarcastic</td>\n",
       "      <td>sarcasm</td>\n",
       "    </tr>\n",
       "    <tr>\n",
       "      <th>1</th>\n",
       "      <td>1086119014131208193</td>\n",
       "      <td>not_sarcastic</td>\n",
       "      <td>NaN</td>\n",
       "    </tr>\n",
       "    <tr>\n",
       "      <th>2</th>\n",
       "      <td>657671293756567552</td>\n",
       "      <td>not_sarcastic</td>\n",
       "      <td>NaN</td>\n",
       "    </tr>\n",
       "    <tr>\n",
       "      <th>3</th>\n",
       "      <td>914242426755256320</td>\n",
       "      <td>not_sarcastic</td>\n",
       "      <td>NaN</td>\n",
       "    </tr>\n",
       "    <tr>\n",
       "      <th>4</th>\n",
       "      <td>1088604537211047936</td>\n",
       "      <td>sarcastic</td>\n",
       "      <td>satire</td>\n",
       "    </tr>\n",
       "  </tbody>\n",
       "</table>\n",
       "</div>"
      ],
      "text/plain": [
       "              tweet_id  sarcasm_label sarcasm_type\n",
       "0   933721764970057729      sarcastic      sarcasm\n",
       "1  1086119014131208193  not_sarcastic          NaN\n",
       "2   657671293756567552  not_sarcastic          NaN\n",
       "3   914242426755256320  not_sarcastic          NaN\n",
       "4  1088604537211047936      sarcastic       satire"
      ]
     },
     "execution_count": 5,
     "metadata": {},
     "output_type": "execute_result"
    }
   ],
   "source": [
    "test_df.head()"
   ]
  },
  {
   "cell_type": "code",
   "execution_count": 6,
   "id": "3b082441",
   "metadata": {},
   "outputs": [],
   "source": [
    "consumer_key = 'XX'\n",
    "consumer_key_secret = 'XX'\n",
    "access_token = 'XX'\n",
    "access_token_secret = 'XX'"
   ]
  },
  {
   "cell_type": "code",
   "execution_count": 8,
   "id": "3c30eb70",
   "metadata": {},
   "outputs": [],
   "source": [
    "auth = tweepy.OAuthHandler(consumer_key, consumer_key_secret)\n",
    "auth.set_access_token(access_token, access_token_secret)\n",
    "api = tweepy.API(auth)"
   ]
  },
  {
   "cell_type": "code",
   "execution_count": 9,
   "id": "ff05007d",
   "metadata": {},
   "outputs": [],
   "source": [
    "def get_tweet(tweet_id):\n",
    "    try:\n",
    "        tweet_fetched = api.get_status(str(tweet_id))\n",
    "        return tweet_fetched.text\n",
    "    except:\n",
    "        return None"
   ]
  },
  {
   "cell_type": "code",
   "execution_count": 16,
   "id": "2dab3f54",
   "metadata": {},
   "outputs": [],
   "source": [
    "tweets_body = train_df.apply(lambda row: get_tweet(row['tweet_id']), axis=1)"
   ]
  },
  {
   "cell_type": "code",
   "execution_count": 20,
   "id": "3081bf94",
   "metadata": {},
   "outputs": [],
   "source": [
    "train_df['tweet_body'] = tweets_body"
   ]
  },
  {
   "cell_type": "code",
   "execution_count": 24,
   "id": "57db4bb7",
   "metadata": {},
   "outputs": [
    {
     "data": {
      "text/plain": [
       "<bound method DataFrame.info of                  tweet_id  sarcasm_label sarcasm_type  \\\n",
       "0      992251158159765504  not_sarcastic          NaN   \n",
       "1     1084373658745876480  not_sarcastic          NaN   \n",
       "2               812181186  not_sarcastic          NaN   \n",
       "3     1090276741329928194  not_sarcastic          NaN   \n",
       "4      553070692682723329      sarcastic      sarcasm   \n",
       "...                   ...            ...          ...   \n",
       "3572   880621198811508737  not_sarcastic          NaN   \n",
       "3573   977938081805414400  not_sarcastic          NaN   \n",
       "3574  1145291654926147586      sarcastic        irony   \n",
       "3575  1146574582272462853  not_sarcastic          NaN   \n",
       "3576  1055962756380327937  not_sarcastic          NaN   \n",
       "\n",
       "                                             tweet_body  \n",
       "0                                                  None  \n",
       "1     sorry but sue from the mediweight advert looks...  \n",
       "2     @davesnyder since this is fantasy can it be an...  \n",
       "3                                                  None  \n",
       "4                                                  None  \n",
       "...                                                 ...  \n",
       "3572                                               None  \n",
       "3573                                               None  \n",
       "3574  I can confirm I am retiring from the consumpti...  \n",
       "3575                                               None  \n",
       "3576  Haven’t stopped thinking about Doctor Who sinc...  \n",
       "\n",
       "[3577 rows x 4 columns]>"
      ]
     },
     "execution_count": 24,
     "metadata": {},
     "output_type": "execute_result"
    }
   ],
   "source": [
    "train_df.info"
   ]
  },
  {
   "cell_type": "code",
   "execution_count": 26,
   "id": "4a589cd9",
   "metadata": {},
   "outputs": [
    {
     "name": "stdout",
     "output_type": "stream",
     "text": [
      "<class 'pandas.core.frame.DataFrame'>\n",
      "RangeIndex: 3577 entries, 0 to 3576\n",
      "Data columns (total 4 columns):\n",
      " #   Column         Non-Null Count  Dtype \n",
      "---  ------         --------------  ----- \n",
      " 0   tweet_id       3577 non-null   int64 \n",
      " 1   sarcasm_label  3577 non-null   object\n",
      " 2   sarcasm_type   619 non-null    object\n",
      " 3   tweet_body     2859 non-null   object\n",
      "dtypes: int64(1), object(3)\n",
      "memory usage: 111.9+ KB\n"
     ]
    }
   ],
   "source": [
    "train_df.info()"
   ]
  },
  {
   "cell_type": "code",
   "execution_count": 28,
   "id": "2df8a69a",
   "metadata": {},
   "outputs": [],
   "source": [
    "train_df = train_df[train_df['tweet_body'].notna()]"
   ]
  },
  {
   "cell_type": "code",
   "execution_count": 29,
   "id": "32034e33",
   "metadata": {},
   "outputs": [
    {
     "name": "stdout",
     "output_type": "stream",
     "text": [
      "<class 'pandas.core.frame.DataFrame'>\n",
      "Int64Index: 2859 entries, 1 to 3576\n",
      "Data columns (total 4 columns):\n",
      " #   Column         Non-Null Count  Dtype \n",
      "---  ------         --------------  ----- \n",
      " 0   tweet_id       2859 non-null   int64 \n",
      " 1   sarcasm_label  2859 non-null   object\n",
      " 2   sarcasm_type   488 non-null    object\n",
      " 3   tweet_body     2859 non-null   object\n",
      "dtypes: int64(1), object(3)\n",
      "memory usage: 111.7+ KB\n"
     ]
    }
   ],
   "source": [
    "train_df.info()"
   ]
  },
  {
   "cell_type": "code",
   "execution_count": 31,
   "id": "4699dfea",
   "metadata": {},
   "outputs": [],
   "source": [
    "tweets_body = test_df.apply(lambda row: get_tweet(row['tweet_id']), axis=1)"
   ]
  },
  {
   "cell_type": "code",
   "execution_count": 34,
   "id": "827a84be",
   "metadata": {},
   "outputs": [
    {
     "name": "stdout",
     "output_type": "stream",
     "text": [
      "<class 'pandas.core.frame.DataFrame'>\n",
      "RangeIndex: 907 entries, 0 to 906\n",
      "Data columns (total 4 columns):\n",
      " #   Column         Non-Null Count  Dtype \n",
      "---  ------         --------------  ----- \n",
      " 0   tweet_id       907 non-null    int64 \n",
      " 1   sarcasm_label  907 non-null    object\n",
      " 2   sarcasm_type   158 non-null    object\n",
      " 3   tweet_body     714 non-null    object\n",
      "dtypes: int64(1), object(3)\n",
      "memory usage: 28.5+ KB\n"
     ]
    }
   ],
   "source": [
    "test_df['tweet_body'] = tweets_body \n",
    "test_df.info()"
   ]
  },
  {
   "cell_type": "code",
   "execution_count": 35,
   "id": "79c0d0d6",
   "metadata": {},
   "outputs": [],
   "source": [
    "test_df = test_df[test_df['tweet_body'].notna()]"
   ]
  },
  {
   "cell_type": "code",
   "execution_count": 36,
   "id": "a52c35fe",
   "metadata": {},
   "outputs": [
    {
     "name": "stdout",
     "output_type": "stream",
     "text": [
      "<class 'pandas.core.frame.DataFrame'>\n",
      "Int64Index: 714 entries, 1 to 906\n",
      "Data columns (total 4 columns):\n",
      " #   Column         Non-Null Count  Dtype \n",
      "---  ------         --------------  ----- \n",
      " 0   tweet_id       714 non-null    int64 \n",
      " 1   sarcasm_label  714 non-null    object\n",
      " 2   sarcasm_type   121 non-null    object\n",
      " 3   tweet_body     714 non-null    object\n",
      "dtypes: int64(1), object(3)\n",
      "memory usage: 27.9+ KB\n"
     ]
    }
   ],
   "source": [
    "test_df.info()"
   ]
  },
  {
   "cell_type": "code",
   "execution_count": 37,
   "id": "18235dcd",
   "metadata": {},
   "outputs": [],
   "source": [
    "train_df.to_csv(r'data/train.csv', index = False, header = True)\n",
    "test_df.to_csv(r'data/test.csv', index = False, header = True)"
   ]
  },
  {
   "cell_type": "code",
   "execution_count": 39,
   "id": "82ea030f",
   "metadata": {},
   "outputs": [
    {
     "name": "stdout",
     "output_type": "stream",
     "text": [
      "140\n"
     ]
    }
   ],
   "source": [
    "max_len = 0\n",
    "for i in range(len(train_df)):\n",
    "    leng = len(train_df.iloc[i][\"tweet_body\"])\n",
    "    if leng > max_len:\n",
    "        max_len = leng\n",
    "print(leng)"
   ]
  },
  {
   "cell_type": "code",
   "execution_count": 147,
   "id": "88ed4f08",
   "metadata": {},
   "outputs": [],
   "source": [
    "def extract_hashtags(text):\n",
    "    hashtag_list = []\n",
    "      \n",
    "    for word in text.split():\n",
    "        if word[0] == '#' and len(word) > 1 and not word[1].isdigit():\n",
    "            hashtag_list.append(word[1:].split('.')[0].split('…')[0])\n",
    "    \n",
    "    return hashtag_list"
   ]
  },
  {
   "cell_type": "code",
   "execution_count": 43,
   "id": "9f4619ac",
   "metadata": {},
   "outputs": [],
   "source": [
    "from tqdm import tqdm\n",
    "\n",
    "tqdm.pandas()"
   ]
  },
  {
   "cell_type": "code",
   "execution_count": 148,
   "id": "f7cff7b4",
   "metadata": {},
   "outputs": [],
   "source": [
    "test_df = pd.read_csv('data/test.csv')\n",
    "train_df = pd.read_csv('data/train.csv')"
   ]
  },
  {
   "cell_type": "code",
   "execution_count": 149,
   "id": "0cbc9de2",
   "metadata": {},
   "outputs": [
    {
     "name": "stderr",
     "output_type": "stream",
     "text": [
      "100%|████████████████████████████████████| 2859/2859 [00:00<00:00, 39651.99it/s]\n",
      "100%|██████████████████████████████████████| 714/714 [00:00<00:00, 49413.14it/s]\n"
     ]
    }
   ],
   "source": [
    "hashtags_train = train_df.progress_apply(lambda row: extract_hashtags(row['tweet_body']), axis=1)\n",
    "hashtags_test = test_df.progress_apply(lambda row: extract_hashtags(row['tweet_body']), axis=1)\n",
    "train_df['hashtags'] = hashtags_train\n",
    "test_df['hashtags'] = hashtags_test"
   ]
  },
  {
   "cell_type": "code",
   "execution_count": 153,
   "id": "9da51721",
   "metadata": {},
   "outputs": [],
   "source": [
    "import regex as re\n",
    "\n",
    "emoji = re.compile('[\\\\u203C-\\\\u3299\\\\U0001F000-\\\\U0001F644]')\n",
    "\n",
    "def extract_emojies(text):\n",
    "    return re.findall(emoji, text)"
   ]
  },
  {
   "cell_type": "code",
   "execution_count": 154,
   "id": "e57c56d2",
   "metadata": {},
   "outputs": [
    {
     "name": "stderr",
     "output_type": "stream",
     "text": [
      "100%|████████████████████████████████████| 2859/2859 [00:00<00:00, 47763.54it/s]\n",
      "100%|██████████████████████████████████████| 714/714 [00:00<00:00, 29859.25it/s]\n"
     ]
    }
   ],
   "source": [
    "emojies_train = train_df.progress_apply(lambda row: extract_emojies(row['tweet_body']), axis=1)\n",
    "emojies_test = test_df.progress_apply(lambda row: extract_emojies(row['tweet_body']), axis=1)\n",
    "train_df['emojies'] = emojies_train\n",
    "test_df['emojies'] = emojies_test"
   ]
  },
  {
   "cell_type": "code",
   "execution_count": 158,
   "id": "1c04c1b0",
   "metadata": {},
   "outputs": [],
   "source": [
    "import re\n",
    "\n",
    "def remove_links(text):\n",
    "    return re.sub(r'\\w+:\\/{2}[\\d\\w-]+(\\.[\\d\\w-]+)*(?:(?:\\/[^\\s/]*))*', '', text)"
   ]
  },
  {
   "cell_type": "code",
   "execution_count": 159,
   "id": "4202945f",
   "metadata": {},
   "outputs": [
    {
     "name": "stderr",
     "output_type": "stream",
     "text": [
      "100%|████████████████████████████████████| 2859/2859 [00:00<00:00, 51057.92it/s]\n",
      "100%|██████████████████████████████████████| 714/714 [00:00<00:00, 48704.35it/s]\n"
     ]
    }
   ],
   "source": [
    "tweets_bodies_without_links_train = train_df.progress_apply(lambda row: remove_links(row['tweet_body']), axis=1)\n",
    "tweets_bodies_without_links_test = test_df.progress_apply(lambda row: remove_links(row['tweet_body']), axis=1)\n",
    "train_df['tweet_body'] = tweets_bodies_without_links_train\n",
    "test_df['tweet_body'] = tweets_bodies_without_links_test"
   ]
  },
  {
   "cell_type": "code",
   "execution_count": 161,
   "id": "6b47affb",
   "metadata": {},
   "outputs": [
    {
     "data": {
      "text/html": [
       "<div>\n",
       "<style scoped>\n",
       "    .dataframe tbody tr th:only-of-type {\n",
       "        vertical-align: middle;\n",
       "    }\n",
       "\n",
       "    .dataframe tbody tr th {\n",
       "        vertical-align: top;\n",
       "    }\n",
       "\n",
       "    .dataframe thead th {\n",
       "        text-align: right;\n",
       "    }\n",
       "</style>\n",
       "<table border=\"1\" class=\"dataframe\">\n",
       "  <thead>\n",
       "    <tr style=\"text-align: right;\">\n",
       "      <th></th>\n",
       "      <th>tweet_id</th>\n",
       "      <th>sarcasm_label</th>\n",
       "      <th>sarcasm_type</th>\n",
       "      <th>tweet_body</th>\n",
       "      <th>hashtags</th>\n",
       "      <th>emojies</th>\n",
       "    </tr>\n",
       "  </thead>\n",
       "  <tbody>\n",
       "    <tr>\n",
       "      <th>0</th>\n",
       "      <td>1084373658745876480</td>\n",
       "      <td>not_sarcastic</td>\n",
       "      <td>NaN</td>\n",
       "      <td>sorry but sue from the mediweight advert looks...</td>\n",
       "      <td>[]</td>\n",
       "      <td>[]</td>\n",
       "    </tr>\n",
       "    <tr>\n",
       "      <th>1</th>\n",
       "      <td>812181186</td>\n",
       "      <td>not_sarcastic</td>\n",
       "      <td>NaN</td>\n",
       "      <td>@davesnyder since this is fantasy can it be an...</td>\n",
       "      <td>[]</td>\n",
       "      <td>[]</td>\n",
       "    </tr>\n",
       "    <tr>\n",
       "      <th>2</th>\n",
       "      <td>1090351571395899392</td>\n",
       "      <td>sarcastic</td>\n",
       "      <td>irony</td>\n",
       "      <td>Good times, fun times here in Grand old Britan...</td>\n",
       "      <td>[]</td>\n",
       "      <td>[]</td>\n",
       "    </tr>\n",
       "    <tr>\n",
       "      <th>3</th>\n",
       "      <td>914961092698353664</td>\n",
       "      <td>not_sarcastic</td>\n",
       "      <td>NaN</td>\n",
       "      <td>I send light and love to all impacted by the #...</td>\n",
       "      <td>[vegasshooting, VegasStrong]</td>\n",
       "      <td>[]</td>\n",
       "    </tr>\n",
       "    <tr>\n",
       "      <th>4</th>\n",
       "      <td>1080104089277681664</td>\n",
       "      <td>not_sarcastic</td>\n",
       "      <td>NaN</td>\n",
       "      <td>Another year closer to death</td>\n",
       "      <td>[]</td>\n",
       "      <td>[]</td>\n",
       "    </tr>\n",
       "    <tr>\n",
       "      <th>...</th>\n",
       "      <td>...</td>\n",
       "      <td>...</td>\n",
       "      <td>...</td>\n",
       "      <td>...</td>\n",
       "      <td>...</td>\n",
       "      <td>...</td>\n",
       "    </tr>\n",
       "    <tr>\n",
       "      <th>2854</th>\n",
       "      <td>1131854999246524416</td>\n",
       "      <td>not_sarcastic</td>\n",
       "      <td>NaN</td>\n",
       "      <td>why did i think “knackered” was a swear word w...</td>\n",
       "      <td>[]</td>\n",
       "      <td>[]</td>\n",
       "    </tr>\n",
       "    <tr>\n",
       "      <th>2855</th>\n",
       "      <td>1171093461111660546</td>\n",
       "      <td>not_sarcastic</td>\n",
       "      <td>NaN</td>\n",
       "      <td>where are the best places to get an academic d...</td>\n",
       "      <td>[]</td>\n",
       "      <td>[☹]</td>\n",
       "    </tr>\n",
       "    <tr>\n",
       "      <th>2856</th>\n",
       "      <td>1158305504575275009</td>\n",
       "      <td>not_sarcastic</td>\n",
       "      <td>NaN</td>\n",
       "      <td>i accidentally just posted someone’s happy bir...</td>\n",
       "      <td>[]</td>\n",
       "      <td>[]</td>\n",
       "    </tr>\n",
       "    <tr>\n",
       "      <th>2857</th>\n",
       "      <td>1145291654926147586</td>\n",
       "      <td>sarcastic</td>\n",
       "      <td>irony</td>\n",
       "      <td>I can confirm I am retiring from the consumpti...</td>\n",
       "      <td>[]</td>\n",
       "      <td>[]</td>\n",
       "    </tr>\n",
       "    <tr>\n",
       "      <th>2858</th>\n",
       "      <td>1055962756380327937</td>\n",
       "      <td>not_sarcastic</td>\n",
       "      <td>NaN</td>\n",
       "      <td>Haven’t stopped thinking about Doctor Who sinc...</td>\n",
       "      <td>[]</td>\n",
       "      <td>[]</td>\n",
       "    </tr>\n",
       "  </tbody>\n",
       "</table>\n",
       "<p>2859 rows × 6 columns</p>\n",
       "</div>"
      ],
      "text/plain": [
       "                 tweet_id  sarcasm_label sarcasm_type  \\\n",
       "0     1084373658745876480  not_sarcastic          NaN   \n",
       "1               812181186  not_sarcastic          NaN   \n",
       "2     1090351571395899392      sarcastic        irony   \n",
       "3      914961092698353664  not_sarcastic          NaN   \n",
       "4     1080104089277681664  not_sarcastic          NaN   \n",
       "...                   ...            ...          ...   \n",
       "2854  1131854999246524416  not_sarcastic          NaN   \n",
       "2855  1171093461111660546  not_sarcastic          NaN   \n",
       "2856  1158305504575275009  not_sarcastic          NaN   \n",
       "2857  1145291654926147586      sarcastic        irony   \n",
       "2858  1055962756380327937  not_sarcastic          NaN   \n",
       "\n",
       "                                             tweet_body  \\\n",
       "0     sorry but sue from the mediweight advert looks...   \n",
       "1     @davesnyder since this is fantasy can it be an...   \n",
       "2     Good times, fun times here in Grand old Britan...   \n",
       "3     I send light and love to all impacted by the #...   \n",
       "4                          Another year closer to death   \n",
       "...                                                 ...   \n",
       "2854  why did i think “knackered” was a swear word w...   \n",
       "2855  where are the best places to get an academic d...   \n",
       "2856  i accidentally just posted someone’s happy bir...   \n",
       "2857  I can confirm I am retiring from the consumpti...   \n",
       "2858  Haven’t stopped thinking about Doctor Who sinc...   \n",
       "\n",
       "                          hashtags emojies  \n",
       "0                               []      []  \n",
       "1                               []      []  \n",
       "2                               []      []  \n",
       "3     [vegasshooting, VegasStrong]      []  \n",
       "4                               []      []  \n",
       "...                            ...     ...  \n",
       "2854                            []      []  \n",
       "2855                            []     [☹]  \n",
       "2856                            []      []  \n",
       "2857                            []      []  \n",
       "2858                            []      []  \n",
       "\n",
       "[2859 rows x 6 columns]"
      ]
     },
     "execution_count": 161,
     "metadata": {},
     "output_type": "execute_result"
    }
   ],
   "source": [
    "train_df"
   ]
  },
  {
   "cell_type": "code",
   "execution_count": 164,
   "id": "4fb51942",
   "metadata": {},
   "outputs": [],
   "source": [
    "train_df['sarcasm_label'].replace({'sarcastic': 1, 'not_sarcastic': 0}, inplace=True)\n",
    "test_df['sarcasm_label'].replace({'sarcastic': 1, 'not_sarcastic': 0}, inplace=True)"
   ]
  },
  {
   "cell_type": "code",
   "execution_count": 167,
   "id": "b5158c7b",
   "metadata": {},
   "outputs": [
    {
     "data": {
      "text/plain": [
       "0    2371\n",
       "1     488\n",
       "Name: sarcasm_label, dtype: int64"
      ]
     },
     "execution_count": 167,
     "metadata": {},
     "output_type": "execute_result"
    }
   ],
   "source": [
    "train_df['sarcasm_label'].value_counts()"
   ]
  },
  {
   "cell_type": "markdown",
   "id": "9b530f20",
   "metadata": {},
   "source": [
    "As we can see it's not balanced. This can be a #problem.\n",
    "\n",
    "For this, we will compare the ratio with <a href=\"https://aclanthology.org/P19-1239/\">Cai et al.(2019) papaer</a>.\n",
    "\n",
    "In that paper we can see that the ration in train dataset is 8642/11174 which is nearly 0.77.\n",
    "\n",
    "Here but the ration is 488/2371 which is nearly 0.2.\n",
    "\n",
    "There is a huge difference."
   ]
  },
  {
   "cell_type": "markdown",
   "id": "62f745a6",
   "metadata": {},
   "source": [
    "## Model using BERT(ReBERTa)"
   ]
  },
  {
   "cell_type": "markdown",
   "id": "d1d1bd3b",
   "metadata": {},
   "source": [
    "### Setting the hyper parameters\n",
    "\n",
    "|Parameter  \t    |Ours  \t    \n",
    "|-\t                |-\t        \n",
    "|Epochs  \t        |1  \t    \n",
    "|Batch Size  \t    |32  \t    \n",
    "|Seq Length  \t    |75  \t    \n",
    "|Learning Rate      |5e-5       \n",
    "|Weight decay       |1e-2       \n",
    "|Warmup rate        |0.2        \n",
    "|Gradient Clipping  |1.0        \n",
    "\n",
    "Absoultely it is out start point and we try to make it better in the future."
   ]
  },
  {
   "cell_type": "code",
   "execution_count": 168,
   "id": "cc7bd1d5",
   "metadata": {},
   "outputs": [],
   "source": [
    "train_args = {\n",
    "    'reprocess_input_data': True,\n",
    "    'overwrite_output_dir': True,\n",
    "    'sliding_window': False,\n",
    "    'max_seq_length': 75,\n",
    "    'learning_rate': 0.00005,\n",
    "    'weight_decay': 0.01,\n",
    "    'warmup_ratio': 0.2,\n",
    "    'max_grad_norm': 1.0,\n",
    "    'num_train_epochs': 1,\n",
    "    'train_batch_size': 32,\n",
    "    'save_model_every_epoch': False,\n",
    "    'save_steps': 4000,\n",
    "    'fp16': True,\n",
    "    'output_dir': '/outputs/',\n",
    "    'evaluate_during_training': True,\n",
    "}"
   ]
  },
  {
   "cell_type": "markdown",
   "id": "6afcb08c",
   "metadata": {},
   "source": [
    "As these days transformers are so popular we will use <a href=\"https://huggingface.co/roberta-base\">roberta-base</a> model by hugging face.\n",
    "\n",
    "<img src=\"https://huggingface.co/front/assets/huggingface_logo.svg\">\n",
    "\n",
    "#### What is ReBERTa base model?\n",
    "Pretrained model on English language using a masked language modeling (MLM) objective.  It was introduced in <a href=\"https://arxiv.org/abs/1907.11692\">this paper</a> and first released in <a href=\"https://github.com/pytorch/fairseq/tree/master/examples/roberta\">this repository</a>. This model is case-sensitive: it makes a difference between english and English."
   ]
  },
  {
   "cell_type": "code",
   "execution_count": null,
   "id": "0a58ef64",
   "metadata": {},
   "outputs": [],
   "source": []
  }
 ],
 "metadata": {
  "kernelspec": {
   "display_name": "Python 3 (ipykernel)",
   "language": "python",
   "name": "python3"
  },
  "language_info": {
   "codemirror_mode": {
    "name": "ipython",
    "version": 3
   },
   "file_extension": ".py",
   "mimetype": "text/x-python",
   "name": "python",
   "nbconvert_exporter": "python",
   "pygments_lexer": "ipython3",
   "version": "3.8.10"
  }
 },
 "nbformat": 4,
 "nbformat_minor": 5
}
