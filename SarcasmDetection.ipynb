{
 "cells": [
  {
   "cell_type": "code",
   "execution_count": 1,
   "id": "b3a3da88",
   "metadata": {},
   "outputs": [],
   "source": [
    "import pandas as pd\n",
    "import numpy as np\n",
    "import tweepy"
   ]
  },
  {
   "cell_type": "markdown",
   "id": "2548e329",
   "metadata": {},
   "source": [
    "# Data collection\n",
    "\n",
    "Here I get tweets based on their id using `tweepy` module. Then remove the tweets which were deleted. Then thos data that their tweets were removed and save new datasets as `csv` in data folder."
   ]
  },
  {
   "cell_type": "code",
   "execution_count": 2,
   "id": "cd20b61a",
   "metadata": {},
   "outputs": [],
   "source": [
    "TRAIN_DATA_DIR = \"data/isarcasm_train.csv\"\n",
    "TEST_DATA_DIR = \"data/isarcasm_test.csv\""
   ]
  },
  {
   "cell_type": "code",
   "execution_count": 3,
   "id": "f369e4ec",
   "metadata": {},
   "outputs": [],
   "source": [
    "train_df = pd.read_csv(TRAIN_DATA_DIR)\n",
    "test_df = pd.read_csv(TEST_DATA_DIR)"
   ]
  },
  {
   "cell_type": "code",
   "execution_count": 4,
   "id": "26f0b308",
   "metadata": {},
   "outputs": [
    {
     "data": {
      "text/html": [
       "<div>\n",
       "<style scoped>\n",
       "    .dataframe tbody tr th:only-of-type {\n",
       "        vertical-align: middle;\n",
       "    }\n",
       "\n",
       "    .dataframe tbody tr th {\n",
       "        vertical-align: top;\n",
       "    }\n",
       "\n",
       "    .dataframe thead th {\n",
       "        text-align: right;\n",
       "    }\n",
       "</style>\n",
       "<table border=\"1\" class=\"dataframe\">\n",
       "  <thead>\n",
       "    <tr style=\"text-align: right;\">\n",
       "      <th></th>\n",
       "      <th>tweet_id</th>\n",
       "      <th>sarcasm_label</th>\n",
       "      <th>sarcasm_type</th>\n",
       "    </tr>\n",
       "  </thead>\n",
       "  <tbody>\n",
       "    <tr>\n",
       "      <th>0</th>\n",
       "      <td>992251158159765504</td>\n",
       "      <td>not_sarcastic</td>\n",
       "      <td>NaN</td>\n",
       "    </tr>\n",
       "    <tr>\n",
       "      <th>1</th>\n",
       "      <td>1084373658745876480</td>\n",
       "      <td>not_sarcastic</td>\n",
       "      <td>NaN</td>\n",
       "    </tr>\n",
       "    <tr>\n",
       "      <th>2</th>\n",
       "      <td>812181186</td>\n",
       "      <td>not_sarcastic</td>\n",
       "      <td>NaN</td>\n",
       "    </tr>\n",
       "    <tr>\n",
       "      <th>3</th>\n",
       "      <td>1090276741329928194</td>\n",
       "      <td>not_sarcastic</td>\n",
       "      <td>NaN</td>\n",
       "    </tr>\n",
       "    <tr>\n",
       "      <th>4</th>\n",
       "      <td>553070692682723329</td>\n",
       "      <td>sarcastic</td>\n",
       "      <td>sarcasm</td>\n",
       "    </tr>\n",
       "  </tbody>\n",
       "</table>\n",
       "</div>"
      ],
      "text/plain": [
       "              tweet_id  sarcasm_label sarcasm_type\n",
       "0   992251158159765504  not_sarcastic          NaN\n",
       "1  1084373658745876480  not_sarcastic          NaN\n",
       "2            812181186  not_sarcastic          NaN\n",
       "3  1090276741329928194  not_sarcastic          NaN\n",
       "4   553070692682723329      sarcastic      sarcasm"
      ]
     },
     "execution_count": 4,
     "metadata": {},
     "output_type": "execute_result"
    }
   ],
   "source": [
    "train_df.head()"
   ]
  },
  {
   "cell_type": "code",
   "execution_count": 5,
   "id": "cc56e066",
   "metadata": {},
   "outputs": [
    {
     "data": {
      "text/html": [
       "<div>\n",
       "<style scoped>\n",
       "    .dataframe tbody tr th:only-of-type {\n",
       "        vertical-align: middle;\n",
       "    }\n",
       "\n",
       "    .dataframe tbody tr th {\n",
       "        vertical-align: top;\n",
       "    }\n",
       "\n",
       "    .dataframe thead th {\n",
       "        text-align: right;\n",
       "    }\n",
       "</style>\n",
       "<table border=\"1\" class=\"dataframe\">\n",
       "  <thead>\n",
       "    <tr style=\"text-align: right;\">\n",
       "      <th></th>\n",
       "      <th>tweet_id</th>\n",
       "      <th>sarcasm_label</th>\n",
       "      <th>sarcasm_type</th>\n",
       "    </tr>\n",
       "  </thead>\n",
       "  <tbody>\n",
       "    <tr>\n",
       "      <th>0</th>\n",
       "      <td>933721764970057729</td>\n",
       "      <td>sarcastic</td>\n",
       "      <td>sarcasm</td>\n",
       "    </tr>\n",
       "    <tr>\n",
       "      <th>1</th>\n",
       "      <td>1086119014131208193</td>\n",
       "      <td>not_sarcastic</td>\n",
       "      <td>NaN</td>\n",
       "    </tr>\n",
       "    <tr>\n",
       "      <th>2</th>\n",
       "      <td>657671293756567552</td>\n",
       "      <td>not_sarcastic</td>\n",
       "      <td>NaN</td>\n",
       "    </tr>\n",
       "    <tr>\n",
       "      <th>3</th>\n",
       "      <td>914242426755256320</td>\n",
       "      <td>not_sarcastic</td>\n",
       "      <td>NaN</td>\n",
       "    </tr>\n",
       "    <tr>\n",
       "      <th>4</th>\n",
       "      <td>1088604537211047936</td>\n",
       "      <td>sarcastic</td>\n",
       "      <td>satire</td>\n",
       "    </tr>\n",
       "  </tbody>\n",
       "</table>\n",
       "</div>"
      ],
      "text/plain": [
       "              tweet_id  sarcasm_label sarcasm_type\n",
       "0   933721764970057729      sarcastic      sarcasm\n",
       "1  1086119014131208193  not_sarcastic          NaN\n",
       "2   657671293756567552  not_sarcastic          NaN\n",
       "3   914242426755256320  not_sarcastic          NaN\n",
       "4  1088604537211047936      sarcastic       satire"
      ]
     },
     "execution_count": 5,
     "metadata": {},
     "output_type": "execute_result"
    }
   ],
   "source": [
    "test_df.head()"
   ]
  },
  {
   "cell_type": "code",
   "execution_count": 6,
   "id": "ace8dc64",
   "metadata": {},
   "outputs": [],
   "source": [
    "consumer_key = 'XX'\n",
    "consumer_key_secret = 'XX'\n",
    "access_token = 'XX'\n",
    "access_token_secret = 'XX'"
   ]
  },
  {
   "cell_type": "code",
   "execution_count": 8,
   "id": "f8cf3a96",
   "metadata": {},
   "outputs": [],
   "source": [
    "auth = tweepy.OAuthHandler(consumer_key, consumer_key_secret)\n",
    "auth.set_access_token(access_token, access_token_secret)\n",
    "api = tweepy.API(auth)"
   ]
  },
  {
   "cell_type": "code",
   "execution_count": 9,
   "id": "64304a06",
   "metadata": {},
   "outputs": [],
   "source": [
    "def get_tweet(tweet_id):\n",
    "    try:\n",
    "        tweet_fetched = api.get_status(str(tweet_id))\n",
    "        return tweet_fetched.text\n",
    "    except:\n",
    "        return None"
   ]
  },
  {
   "cell_type": "code",
   "execution_count": 16,
   "id": "b227d644",
   "metadata": {},
   "outputs": [],
   "source": [
    "tweets_body = train_df.apply(lambda row: get_tweet(row['tweet_id']), axis=1)"
   ]
  },
  {
   "cell_type": "code",
   "execution_count": 20,
   "id": "1e6c063e",
   "metadata": {},
   "outputs": [],
   "source": [
    "train_df['tweet_body'] = tweets_body"
   ]
  },
  {
   "cell_type": "code",
   "execution_count": 24,
   "id": "bd26328b",
   "metadata": {},
   "outputs": [
    {
     "data": {
      "text/plain": [
       "<bound method DataFrame.info of                  tweet_id  sarcasm_label sarcasm_type  \\\n",
       "0      992251158159765504  not_sarcastic          NaN   \n",
       "1     1084373658745876480  not_sarcastic          NaN   \n",
       "2               812181186  not_sarcastic          NaN   \n",
       "3     1090276741329928194  not_sarcastic          NaN   \n",
       "4      553070692682723329      sarcastic      sarcasm   \n",
       "...                   ...            ...          ...   \n",
       "3572   880621198811508737  not_sarcastic          NaN   \n",
       "3573   977938081805414400  not_sarcastic          NaN   \n",
       "3574  1145291654926147586      sarcastic        irony   \n",
       "3575  1146574582272462853  not_sarcastic          NaN   \n",
       "3576  1055962756380327937  not_sarcastic          NaN   \n",
       "\n",
       "                                             tweet_body  \n",
       "0                                                  None  \n",
       "1     sorry but sue from the mediweight advert looks...  \n",
       "2     @davesnyder since this is fantasy can it be an...  \n",
       "3                                                  None  \n",
       "4                                                  None  \n",
       "...                                                 ...  \n",
       "3572                                               None  \n",
       "3573                                               None  \n",
       "3574  I can confirm I am retiring from the consumpti...  \n",
       "3575                                               None  \n",
       "3576  Haven’t stopped thinking about Doctor Who sinc...  \n",
       "\n",
       "[3577 rows x 4 columns]>"
      ]
     },
     "execution_count": 24,
     "metadata": {},
     "output_type": "execute_result"
    }
   ],
   "source": [
    "train_df.info"
   ]
  },
  {
   "cell_type": "code",
   "execution_count": 26,
   "id": "0d2e0fc0",
   "metadata": {},
   "outputs": [
    {
     "name": "stdout",
     "output_type": "stream",
     "text": [
      "<class 'pandas.core.frame.DataFrame'>\n",
      "RangeIndex: 3577 entries, 0 to 3576\n",
      "Data columns (total 4 columns):\n",
      " #   Column         Non-Null Count  Dtype \n",
      "---  ------         --------------  ----- \n",
      " 0   tweet_id       3577 non-null   int64 \n",
      " 1   sarcasm_label  3577 non-null   object\n",
      " 2   sarcasm_type   619 non-null    object\n",
      " 3   tweet_body     2859 non-null   object\n",
      "dtypes: int64(1), object(3)\n",
      "memory usage: 111.9+ KB\n"
     ]
    }
   ],
   "source": [
    "train_df.info()"
   ]
  },
  {
   "cell_type": "code",
   "execution_count": 28,
   "id": "451da34a",
   "metadata": {},
   "outputs": [],
   "source": [
    "train_df = train_df[train_df['tweet_body'].notna()]"
   ]
  },
  {
   "cell_type": "code",
   "execution_count": 29,
   "id": "5d235f91",
   "metadata": {},
   "outputs": [
    {
     "name": "stdout",
     "output_type": "stream",
     "text": [
      "<class 'pandas.core.frame.DataFrame'>\n",
      "Int64Index: 2859 entries, 1 to 3576\n",
      "Data columns (total 4 columns):\n",
      " #   Column         Non-Null Count  Dtype \n",
      "---  ------         --------------  ----- \n",
      " 0   tweet_id       2859 non-null   int64 \n",
      " 1   sarcasm_label  2859 non-null   object\n",
      " 2   sarcasm_type   488 non-null    object\n",
      " 3   tweet_body     2859 non-null   object\n",
      "dtypes: int64(1), object(3)\n",
      "memory usage: 111.7+ KB\n"
     ]
    }
   ],
   "source": [
    "train_df.info()"
   ]
  },
  {
   "cell_type": "code",
   "execution_count": 31,
   "id": "ffa65013",
   "metadata": {},
   "outputs": [],
   "source": [
    "tweets_body = test_df.apply(lambda row: get_tweet(row['tweet_id']), axis=1)"
   ]
  },
  {
   "cell_type": "code",
   "execution_count": 34,
   "id": "95ceb7d5",
   "metadata": {},
   "outputs": [
    {
     "name": "stdout",
     "output_type": "stream",
     "text": [
      "<class 'pandas.core.frame.DataFrame'>\n",
      "RangeIndex: 907 entries, 0 to 906\n",
      "Data columns (total 4 columns):\n",
      " #   Column         Non-Null Count  Dtype \n",
      "---  ------         --------------  ----- \n",
      " 0   tweet_id       907 non-null    int64 \n",
      " 1   sarcasm_label  907 non-null    object\n",
      " 2   sarcasm_type   158 non-null    object\n",
      " 3   tweet_body     714 non-null    object\n",
      "dtypes: int64(1), object(3)\n",
      "memory usage: 28.5+ KB\n"
     ]
    }
   ],
   "source": [
    "test_df['tweet_body'] = tweets_body \n",
    "test_df.info()"
   ]
  },
  {
   "cell_type": "code",
   "execution_count": 35,
   "id": "3abc1e60",
   "metadata": {},
   "outputs": [],
   "source": [
    "test_df = test_df[test_df['tweet_body'].notna()]"
   ]
  },
  {
   "cell_type": "code",
   "execution_count": 36,
   "id": "05a98e74",
   "metadata": {},
   "outputs": [
    {
     "name": "stdout",
     "output_type": "stream",
     "text": [
      "<class 'pandas.core.frame.DataFrame'>\n",
      "Int64Index: 714 entries, 1 to 906\n",
      "Data columns (total 4 columns):\n",
      " #   Column         Non-Null Count  Dtype \n",
      "---  ------         --------------  ----- \n",
      " 0   tweet_id       714 non-null    int64 \n",
      " 1   sarcasm_label  714 non-null    object\n",
      " 2   sarcasm_type   121 non-null    object\n",
      " 3   tweet_body     714 non-null    object\n",
      "dtypes: int64(1), object(3)\n",
      "memory usage: 27.9+ KB\n"
     ]
    }
   ],
   "source": [
    "test_df.info()"
   ]
  },
  {
   "cell_type": "code",
   "execution_count": 37,
   "id": "24435c03",
   "metadata": {},
   "outputs": [],
   "source": [
    "train_df.to_csv(r'data/train.csv', index = False, header = True)\n",
    "test_df.to_csv(r'data/test.csv', index = False, header = True)"
   ]
  },
  {
   "cell_type": "code",
   "execution_count": 39,
   "id": "a6cd5a8d",
   "metadata": {},
   "outputs": [
    {
     "name": "stdout",
     "output_type": "stream",
     "text": [
      "140\n"
     ]
    }
   ],
   "source": [
    "max_len = 0\n",
    "for i in range(len(train_df)):\n",
    "    leng = len(train_df.iloc[i][\"tweet_body\"])\n",
    "    if leng > max_len:\n",
    "        max_len = leng\n",
    "print(leng)"
   ]
  },
  {
   "cell_type": "code",
   "execution_count": 147,
   "id": "463adb36",
   "metadata": {},
   "outputs": [],
   "source": [
    "def extract_hashtags(text):\n",
    "    hashtag_list = []\n",
    "      \n",
    "    for word in text.split():\n",
    "        if word[0] == '#' and len(word) > 1 and not word[1].isdigit():\n",
    "            hashtag_list.append(word[1:].split('.')[0].split('…')[0])\n",
    "    \n",
    "    return hashtag_list"
   ]
  },
  {
   "cell_type": "code",
   "execution_count": 43,
   "id": "20a620b1",
   "metadata": {},
   "outputs": [],
   "source": [
    "from tqdm import tqdm\n",
    "\n",
    "tqdm.pandas()"
   ]
  },
  {
   "cell_type": "code",
   "execution_count": 148,
   "id": "722c3635",
   "metadata": {},
   "outputs": [],
   "source": [
    "test_df = pd.read_csv('data/test.csv')\n",
    "train_df = pd.read_csv('data/train.csv')"
   ]
  },
  {
   "cell_type": "code",
   "execution_count": 149,
   "id": "d02a56be",
   "metadata": {},
   "outputs": [
    {
     "name": "stderr",
     "output_type": "stream",
     "text": [
      "100%|████████████████████████████████████| 2859/2859 [00:00<00:00, 39651.99it/s]\n",
      "100%|██████████████████████████████████████| 714/714 [00:00<00:00, 49413.14it/s]\n"
     ]
    }
   ],
   "source": [
    "hashtags_train = train_df.progress_apply(lambda row: extract_hashtags(row['tweet_body']), axis=1)\n",
    "hashtags_test = test_df.progress_apply(lambda row: extract_hashtags(row['tweet_body']), axis=1)\n",
    "train_df['hashtags'] = hashtags_train\n",
    "test_df['hashtags'] = hashtags_test"
   ]
  },
  {
   "cell_type": "code",
   "execution_count": 153,
   "id": "6fcb7120",
   "metadata": {},
   "outputs": [],
   "source": [
    "import regex as re\n",
    "\n",
    "emoji = re.compile('[\\\\u203C-\\\\u3299\\\\U0001F000-\\\\U0001F644]')\n",
    "\n",
    "def extract_emojies(text):\n",
    "    return re.findall(emoji, text)"
   ]
  },
  {
   "cell_type": "code",
   "execution_count": 154,
   "id": "6b036d53",
   "metadata": {},
   "outputs": [
    {
     "name": "stderr",
     "output_type": "stream",
     "text": [
      "100%|████████████████████████████████████| 2859/2859 [00:00<00:00, 47763.54it/s]\n",
      "100%|██████████████████████████████████████| 714/714 [00:00<00:00, 29859.25it/s]\n"
     ]
    }
   ],
   "source": [
    "emojies_train = train_df.progress_apply(lambda row: extract_emojies(row['tweet_body']), axis=1)\n",
    "emojies_test = test_df.progress_apply(lambda row: extract_emojies(row['tweet_body']), axis=1)\n",
    "train_df['emojies'] = emojies_train\n",
    "test_df['emojies'] = emojies_test"
   ]
  },
  {
   "cell_type": "code",
   "execution_count": 158,
   "id": "a75f1f20",
   "metadata": {},
   "outputs": [],
   "source": [
    "import re\n",
    "\n",
    "def remove_links(text):\n",
    "    return re.sub(r'\\w+:\\/{2}[\\d\\w-]+(\\.[\\d\\w-]+)*(?:(?:\\/[^\\s/]*))*', '', text)"
   ]
  },
  {
   "cell_type": "code",
   "execution_count": 159,
   "id": "1ff44659",
   "metadata": {},
   "outputs": [
    {
     "name": "stderr",
     "output_type": "stream",
     "text": [
      "100%|████████████████████████████████████| 2859/2859 [00:00<00:00, 51057.92it/s]\n",
      "100%|██████████████████████████████████████| 714/714 [00:00<00:00, 48704.35it/s]\n"
     ]
    }
   ],
   "source": [
    "tweets_bodies_without_links_train = train_df.progress_apply(lambda row: remove_links(row['tweet_body']), axis=1)\n",
    "tweets_bodies_without_links_test = test_df.progress_apply(lambda row: remove_links(row['tweet_body']), axis=1)\n",
    "train_df['tweet_body'] = tweets_bodies_without_links_train\n",
    "test_df['tweet_body'] = tweets_bodies_without_links_test"
   ]
  },
  {
   "cell_type": "code",
   "execution_count": null,
   "id": "f2e3617d",
   "metadata": {},
   "outputs": [],
   "source": []
  }
 ],
 "metadata": {
  "kernelspec": {
   "display_name": "Python 3 (ipykernel)",
   "language": "python",
   "name": "python3"
  },
  "language_info": {
   "codemirror_mode": {
    "name": "ipython",
    "version": 3
   },
   "file_extension": ".py",
   "mimetype": "text/x-python",
   "name": "python",
   "nbconvert_exporter": "python",
   "pygments_lexer": "ipython3",
   "version": "3.8.10"
  }
 },
 "nbformat": 4,
 "nbformat_minor": 5
}
